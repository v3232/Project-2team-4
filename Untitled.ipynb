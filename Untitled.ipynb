{
 "cells": [
  {
   "cell_type": "code",
   "execution_count": 5,
   "id": "bfa4fd20-5e6a-49fe-aaec-dcbbda0f36dc",
   "metadata": {
    "tags": []
   },
   "outputs": [],
   "source": [
    "import requests\n",
    "import json\n",
    "import pandas as pd"
   ]
  },
  {
   "cell_type": "code",
   "execution_count": 3,
   "id": "37a3893b-622b-45f9-b0f0-36b913480578",
   "metadata": {
    "tags": []
   },
   "outputs": [],
   "source": [
    "bitcoin_api_url = \"https://api.alternative.me/v2/ticker/bitcoin/?convert=USD\"\n"
   ]
  },
  {
   "cell_type": "code",
   "execution_count": 4,
   "id": "4f612232-e463-4a08-bd40-b40886f4e526",
   "metadata": {
    "tags": []
   },
   "outputs": [
    {
     "data": {
      "text/plain": [
       "{'data': {'1': {'id': 1,\n",
       "   'name': 'Bitcoin',\n",
       "   'symbol': 'BTC',\n",
       "   'website_slug': 'bitcoin',\n",
       "   'rank': 1,\n",
       "   'circulating_supply': 19471131,\n",
       "   'total_supply': 19471131,\n",
       "   'max_supply': 21000000,\n",
       "   'quotes': {'USD': {'price': 27666.0,\n",
       "     'volume_24h': 29326217696,\n",
       "     'market_cap': 538219727289,\n",
       "     'percentage_change_1h': 0.226078080469727,\n",
       "     'percentage_change_24h': 5.94881581034439,\n",
       "     'percentage_change_7d': 7.24071493701983,\n",
       "     'percent_change_1h': 0.226078080469727,\n",
       "     'percent_change_24h': 5.94881581034439,\n",
       "     'percent_change_7d': 7.24071493701983}},\n",
       "   'last_updated': 1693352696}},\n",
       " 'metadata': {'timestamp': 1693352696,\n",
       "  'num_cryptocurrencies': 3119,\n",
       "  'error': None}}"
      ]
     },
     "execution_count": 4,
     "metadata": {},
     "output_type": "execute_result"
    }
   ],
   "source": [
    "response = requests.get(bitcoin_api_url)\n",
    "response_json = response.json()\n",
    "response_json"
   ]
  },
  {
   "cell_type": "code",
   "execution_count": 6,
   "id": "967a1f2f-b227-4576-9262-45484c8b062f",
   "metadata": {
    "tags": []
   },
   "outputs": [],
   "source": [
    "df = pd.DataFrame(response_json)"
   ]
  },
  {
   "cell_type": "code",
   "execution_count": 7,
   "id": "f408c863-79fa-4faa-b720-e18bbadd59e6",
   "metadata": {
    "tags": []
   },
   "outputs": [
    {
     "data": {
      "text/html": [
       "<div>\n",
       "<style scoped>\n",
       "    .dataframe tbody tr th:only-of-type {\n",
       "        vertical-align: middle;\n",
       "    }\n",
       "\n",
       "    .dataframe tbody tr th {\n",
       "        vertical-align: top;\n",
       "    }\n",
       "\n",
       "    .dataframe thead th {\n",
       "        text-align: right;\n",
       "    }\n",
       "</style>\n",
       "<table border=\"1\" class=\"dataframe\">\n",
       "  <thead>\n",
       "    <tr style=\"text-align: right;\">\n",
       "      <th></th>\n",
       "      <th>data</th>\n",
       "      <th>metadata</th>\n",
       "    </tr>\n",
       "  </thead>\n",
       "  <tbody>\n",
       "    <tr>\n",
       "      <th>1</th>\n",
       "      <td>{'id': 1, 'name': 'Bitcoin', 'symbol': 'BTC', ...</td>\n",
       "      <td>NaN</td>\n",
       "    </tr>\n",
       "    <tr>\n",
       "      <th>timestamp</th>\n",
       "      <td>NaN</td>\n",
       "      <td>1.693353e+09</td>\n",
       "    </tr>\n",
       "    <tr>\n",
       "      <th>num_cryptocurrencies</th>\n",
       "      <td>NaN</td>\n",
       "      <td>3.119000e+03</td>\n",
       "    </tr>\n",
       "    <tr>\n",
       "      <th>error</th>\n",
       "      <td>NaN</td>\n",
       "      <td>NaN</td>\n",
       "    </tr>\n",
       "  </tbody>\n",
       "</table>\n",
       "</div>"
      ],
      "text/plain": [
       "                                                                   data  \\\n",
       "1                     {'id': 1, 'name': 'Bitcoin', 'symbol': 'BTC', ...   \n",
       "timestamp                                                           NaN   \n",
       "num_cryptocurrencies                                                NaN   \n",
       "error                                                               NaN   \n",
       "\n",
       "                          metadata  \n",
       "1                              NaN  \n",
       "timestamp             1.693353e+09  \n",
       "num_cryptocurrencies  3.119000e+03  \n",
       "error                          NaN  "
      ]
     },
     "execution_count": 7,
     "metadata": {},
     "output_type": "execute_result"
    }
   ],
   "source": [
    "df"
   ]
  },
  {
   "cell_type": "code",
   "execution_count": null,
   "id": "9bb7ea9c-5ac3-4658-bfb4-6dcc3d21b14e",
   "metadata": {},
   "outputs": [],
   "source": []
  }
 ],
 "metadata": {
  "kernelspec": {
   "display_name": "Python 3 (ipykernel)",
   "language": "python",
   "name": "python3"
  },
  "language_info": {
   "codemirror_mode": {
    "name": "ipython",
    "version": 3
   },
   "file_extension": ".py",
   "mimetype": "text/x-python",
   "name": "python",
   "nbconvert_exporter": "python",
   "pygments_lexer": "ipython3",
   "version": "3.10.11"
  }
 },
 "nbformat": 4,
 "nbformat_minor": 5
}
