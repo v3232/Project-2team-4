{
 "cells": [
  {
   "cell_type": "code",
   "execution_count": 2,
   "id": "13997cd3-8c94-46e8-b7e0-c4dc3d233a86",
   "metadata": {},
   "outputs": [],
   "source": [
    "import pandas as pd\n",
    "from finta import TA\n",
    "import numpy as np\n",
    "import matplotlib.pyplot as plt\n",
    "from sklearn.metrics import accuracy_score\n",
    "from sklearn.metrics import confusion_matrix\n",
    "from sklearn.metrics import classification_report\n",
    "from sklearn.model_selection import train_test_split\n",
    "from sklearn.preprocessing import StandardScaler\n",
    "from sklearn import svm\n",
    "from sklearn.ensemble import GradientBoostingClassifier\n",
    "from sklearn.linear_model import LogisticRegression\n",
    "from sklearn.ensemble import RandomForestClassifier\n",
    "'''\n",
    "from keras.models import Sequential\n",
    "from keras.layers import Dense\n",
    "from keras.layers import LSTM\n",
    "from keras.layers import Dropout\n",
    "'''\n",
    "\n",
    "import warnings\n",
    "warnings.filterwarnings('ignore')"
   ]
  },
  {
   "cell_type": "code",
   "execution_count": 2,
   "id": "250a9e80-e19d-4395-8606-866031e8780b",
   "metadata": {},
   "outputs": [
    {
     "data": {
      "text/html": [
       "<div>\n",
       "<style scoped>\n",
       "    .dataframe tbody tr th:only-of-type {\n",
       "        vertical-align: middle;\n",
       "    }\n",
       "\n",
       "    .dataframe tbody tr th {\n",
       "        vertical-align: top;\n",
       "    }\n",
       "\n",
       "    .dataframe thead th {\n",
       "        text-align: right;\n",
       "    }\n",
       "</style>\n",
       "<table border=\"1\" class=\"dataframe\">\n",
       "  <thead>\n",
       "    <tr style=\"text-align: right;\">\n",
       "      <th></th>\n",
       "      <th>Open</th>\n",
       "      <th>High</th>\n",
       "      <th>Low</th>\n",
       "      <th>Close</th>\n",
       "      <th>Volume</th>\n",
       "      <th>Market Cap</th>\n",
       "    </tr>\n",
       "    <tr>\n",
       "      <th>Start</th>\n",
       "      <th></th>\n",
       "      <th></th>\n",
       "      <th></th>\n",
       "      <th></th>\n",
       "      <th></th>\n",
       "      <th></th>\n",
       "    </tr>\n",
       "  </thead>\n",
       "  <tbody>\n",
       "    <tr>\n",
       "      <th>2010-07-24</th>\n",
       "      <td>0.0545</td>\n",
       "      <td>0.0545</td>\n",
       "      <td>0.0545</td>\n",
       "      <td>0.0545</td>\n",
       "      <td>0.000000e+00</td>\n",
       "      <td>0.000000e+00</td>\n",
       "    </tr>\n",
       "    <tr>\n",
       "      <th>2010-07-25</th>\n",
       "      <td>0.0505</td>\n",
       "      <td>0.0505</td>\n",
       "      <td>0.0505</td>\n",
       "      <td>0.0505</td>\n",
       "      <td>0.000000e+00</td>\n",
       "      <td>0.000000e+00</td>\n",
       "    </tr>\n",
       "    <tr>\n",
       "      <th>2010-07-26</th>\n",
       "      <td>0.0560</td>\n",
       "      <td>0.0560</td>\n",
       "      <td>0.0560</td>\n",
       "      <td>0.0560</td>\n",
       "      <td>0.000000e+00</td>\n",
       "      <td>0.000000e+00</td>\n",
       "    </tr>\n",
       "    <tr>\n",
       "      <th>2010-07-27</th>\n",
       "      <td>0.0600</td>\n",
       "      <td>0.0600</td>\n",
       "      <td>0.0600</td>\n",
       "      <td>0.0600</td>\n",
       "      <td>0.000000e+00</td>\n",
       "      <td>0.000000e+00</td>\n",
       "    </tr>\n",
       "    <tr>\n",
       "      <th>2010-07-28</th>\n",
       "      <td>0.0589</td>\n",
       "      <td>0.0589</td>\n",
       "      <td>0.0589</td>\n",
       "      <td>0.0589</td>\n",
       "      <td>0.000000e+00</td>\n",
       "      <td>0.000000e+00</td>\n",
       "    </tr>\n",
       "    <tr>\n",
       "      <th>...</th>\n",
       "      <td>...</td>\n",
       "      <td>...</td>\n",
       "      <td>...</td>\n",
       "      <td>...</td>\n",
       "      <td>...</td>\n",
       "      <td>...</td>\n",
       "    </tr>\n",
       "    <tr>\n",
       "      <th>2023-08-18</th>\n",
       "      <td>26659.8500</td>\n",
       "      <td>26784.2300</td>\n",
       "      <td>25721.5300</td>\n",
       "      <td>26058.2600</td>\n",
       "      <td>7.032831e+10</td>\n",
       "      <td>5.115170e+11</td>\n",
       "    </tr>\n",
       "    <tr>\n",
       "      <th>2023-08-19</th>\n",
       "      <td>26069.2300</td>\n",
       "      <td>26253.2600</td>\n",
       "      <td>25814.2500</td>\n",
       "      <td>26090.6300</td>\n",
       "      <td>4.769626e+10</td>\n",
       "      <td>5.060530e+11</td>\n",
       "    </tr>\n",
       "    <tr>\n",
       "      <th>2023-08-20</th>\n",
       "      <td>26085.1800</td>\n",
       "      <td>26267.3300</td>\n",
       "      <td>26002.0300</td>\n",
       "      <td>26180.0000</td>\n",
       "      <td>3.624048e+10</td>\n",
       "      <td>5.084380e+11</td>\n",
       "    </tr>\n",
       "    <tr>\n",
       "      <th>2023-08-21</th>\n",
       "      <td>26182.7900</td>\n",
       "      <td>26201.8600</td>\n",
       "      <td>25879.4800</td>\n",
       "      <td>26123.4500</td>\n",
       "      <td>3.897847e+10</td>\n",
       "      <td>5.073480e+11</td>\n",
       "    </tr>\n",
       "    <tr>\n",
       "      <th>2023-08-22</th>\n",
       "      <td>26134.0500</td>\n",
       "      <td>26134.0500</td>\n",
       "      <td>25593.7900</td>\n",
       "      <td>26048.0900</td>\n",
       "      <td>4.275523e+10</td>\n",
       "      <td>5.057130e+11</td>\n",
       "    </tr>\n",
       "  </tbody>\n",
       "</table>\n",
       "<p>4778 rows × 6 columns</p>\n",
       "</div>"
      ],
      "text/plain": [
       "                  Open        High         Low       Close        Volume  \\\n",
       "Start                                                                      \n",
       "2010-07-24      0.0545      0.0545      0.0545      0.0545  0.000000e+00   \n",
       "2010-07-25      0.0505      0.0505      0.0505      0.0505  0.000000e+00   \n",
       "2010-07-26      0.0560      0.0560      0.0560      0.0560  0.000000e+00   \n",
       "2010-07-27      0.0600      0.0600      0.0600      0.0600  0.000000e+00   \n",
       "2010-07-28      0.0589      0.0589      0.0589      0.0589  0.000000e+00   \n",
       "...                ...         ...         ...         ...           ...   \n",
       "2023-08-18  26659.8500  26784.2300  25721.5300  26058.2600  7.032831e+10   \n",
       "2023-08-19  26069.2300  26253.2600  25814.2500  26090.6300  4.769626e+10   \n",
       "2023-08-20  26085.1800  26267.3300  26002.0300  26180.0000  3.624048e+10   \n",
       "2023-08-21  26182.7900  26201.8600  25879.4800  26123.4500  3.897847e+10   \n",
       "2023-08-22  26134.0500  26134.0500  25593.7900  26048.0900  4.275523e+10   \n",
       "\n",
       "              Market Cap  \n",
       "Start                     \n",
       "2010-07-24  0.000000e+00  \n",
       "2010-07-25  0.000000e+00  \n",
       "2010-07-26  0.000000e+00  \n",
       "2010-07-27  0.000000e+00  \n",
       "2010-07-28  0.000000e+00  \n",
       "...                  ...  \n",
       "2023-08-18  5.115170e+11  \n",
       "2023-08-19  5.060530e+11  \n",
       "2023-08-20  5.084380e+11  \n",
       "2023-08-21  5.073480e+11  \n",
       "2023-08-22  5.057130e+11  \n",
       "\n",
       "[4778 rows x 6 columns]"
      ]
     },
     "execution_count": 2,
     "metadata": {},
     "output_type": "execute_result"
    }
   ],
   "source": [
    "df = pd.read_csv(\"./bitcoin_2010-07-24_2023-08-23.csv\")\n",
    "df['Start']=pd.to_datetime(df['Start'])\n",
    "df.set_index('Start',inplace=True)\n",
    "df.sort_index(ascending=True,inplace=True)\n",
    "df.drop('End',axis=1,inplace=True)\n",
    "df"
   ]
  },
  {
   "cell_type": "markdown",
   "id": "613665ac",
   "metadata": {},
   "source": []
  },
  {
   "cell_type": "code",
   "execution_count": 4,
   "id": "30d52bb9-e836-4910-af80-5e931933ff2d",
   "metadata": {},
   "outputs": [],
   "source": [
    "# Get technical indicator\n",
    "def get_ta(df):\n",
    "    df['ADX'] = TA.ADX(df)\n",
    "\n",
    "    # Calculate RSI\n",
    "    df['RSI'] = TA.RSI(df)\n",
    "\n",
    "    # Calculate Bollinger Bands\n",
    "    bollinger_bands = TA.BBANDS(df)\n",
    "    df['BollingerUpper'] = bollinger_bands['BB_UPPER']\n",
    "    df['BollingerMiddle'] = bollinger_bands['BB_MIDDLE']\n",
    "    df['BollingerLower'] = bollinger_bands['BB_LOWER']\n",
    "\n",
    "    df.dropna(inplace=True)\n",
    "    return df"
   ]
  },
  {
   "cell_type": "code",
   "execution_count": 5,
   "id": "542988ec-0cb9-4908-b5fe-efee638f37a8",
   "metadata": {},
   "outputs": [],
   "source": [
    "def label_market(df, criteria):\n",
    "    df['MarketLabel'] = 0\n",
    "    indices = df.index.tolist()\n",
    "    \n",
    "    for i in range(len(indices)):\n",
    "        current_index = indices[i]\n",
    "        trendy_count = 0\n",
    "        \n",
    "        if df.loc[current_index, 'ADX'] > 25:\n",
    "            trendy_count += 1\n",
    "        \n",
    "        if df.loc[current_index, 'RSI'] < 30 or df.loc[current_index, 'RSI'] > 70:\n",
    "            trendy_count += 1\n",
    "\n",
    "        if i > 0:\n",
    "            previous_index = indices[i-1]\n",
    "            current_width = df.loc[current_index, 'BollingerUpper'] - df.loc[current_index, 'BollingerLower']\n",
    "            previous_width = df.loc[previous_index, 'BollingerUpper'] - df.loc[previous_index, 'BollingerLower']\n",
    "            \n",
    "            if current_width > previous_width:\n",
    "                trendy_count += 1\n",
    "\n",
    "        if trendy_count >= criteria:\n",
    "            df.loc[current_index, 'MarketLabel'] = 1  # Trendy\n",
    "            \n",
    "    return df"
   ]
  },
  {
   "cell_type": "code",
   "execution_count": 6,
   "id": "545c76ba-fd8e-4f74-a41d-27bfa3ff18fb",
   "metadata": {},
   "outputs": [],
   "source": [
    "def plot_colored_market_trends(df):\n",
    "    fig, ax = plt.subplots()\n",
    "    prev_price = df['Close'].iloc[0]\n",
    "    prev_date = df.index[0]\n",
    "    prev_label = df['MarketLabel'].iloc[0]\n",
    "\n",
    "    for date, row in df.iterrows():\n",
    "        current_price = row['Close']\n",
    "        current_label = row['MarketLabel']\n",
    "        \n",
    "        color = 'g' if current_label == 1 else 'b'\n",
    "        \n",
    "        ax.plot([prev_date, date], [prev_price, current_price], color=color)\n",
    "        \n",
    "        prev_price = current_price\n",
    "        prev_date = date\n",
    "        prev_label = current_label\n",
    "\n",
    "    ax.set_title('BTC Prices with Market Labels')\n",
    "    ax.set_xlabel('Date')\n",
    "    ax.set_ylabel('Close Price')\n",
    "\n",
    "    plt.show()"
   ]
  },
  {
   "cell_type": "code",
   "execution_count": 8,
   "id": "6b0e01d3",
   "metadata": {},
   "outputs": [],
   "source": [
    "df = get_ta(df)\n",
    "df = label_market(df,2)"
   ]
  },
  {
   "cell_type": "code",
   "execution_count": 8,
   "id": "0e061e96",
   "metadata": {},
   "outputs": [
    {
     "data": {
      "image/png": "[encoded data removed]",
      "text/plain": [
       "<Figure size 640x480 with 1 Axes>"
      ]
     },
     "metadata": {},
     "output_type": "display_data"
    }
   ],
   "source": [
    "plot_colored_market_trends(df)"
   ]
  },
  {
   "cell_type": "code",
   "execution_count": 9,
   "id": "18080680",
   "metadata": {},
   "outputs": [
    {
     "data": {
      "text/plain": [
       "0    2922\n",
       "1    1837\n",
       "Name: MarketLabel, dtype: int64"
      ]
     },
     "execution_count": 9,
     "metadata": {},
     "output_type": "execute_result"
    }
   ],
   "source": [
    "df['MarketLabel'].value_counts()"
   ]
  },
  {
   "cell_type": "code",
   "execution_count": 11,
   "id": "3f1a7b38",
   "metadata": {},
   "outputs": [],
   "source": [
    "X = df.drop(columns=[\"MarketLabel\"])\n",
    "y = df[\"MarketLabel\"]"
   ]
  },
  {
   "cell_type": "code",
   "execution_count": 11,
   "id": "80e3697a",
   "metadata": {},
   "outputs": [],
   "source": [
    "# Split the data using train_test_split\n",
    "# Assign a random_state of 1 to the function\n",
    "X_train, X_test, y_train, y_test = train_test_split(X,y,random_state=1)"
   ]
  },
  {
   "cell_type": "code",
   "execution_count": 18,
   "id": "92c05a80",
   "metadata": {},
   "outputs": [],
   "source": [
    "# Create a StandardScaler instance\n",
    "scaler = StandardScaler()\n",
    "\n",
    "# Fit the scaler to the features training dataset\n",
    "X_scaler = scaler.fit(X_train)\n",
    "\n",
    "# Fit the scaler to the features training dataset\n",
    "X_train_scaled = X_scaler.transform(X_train)\n",
    "X_test_scaled = X_scaler.transform(X_test)"
   ]
  },
  {
   "cell_type": "markdown",
   "id": "0ffb7626",
   "metadata": {},
   "source": [
    "## SVM Model "
   ]
  },
  {
   "cell_type": "code",
   "execution_count": 19,
   "id": "bd3f5d43",
   "metadata": {},
   "outputs": [
    {
     "name": "stdout",
     "output_type": "stream",
     "text": [
      "[0 0 0 0 0 0 1 0 0 0 0 0 0 0 0 0 0 0 0 0 1 1 1 0 0 0 0 0 0 0 0 0 0 0 0 0 0\n",
      " 0 0 0 0 0 0 0 0 0 0 0 0 0 0 0 0 0 0 0 0 0 0 0 0 0 0 0 0 0 0 0 0 0 0 0 0 0\n",
      " 0 0 0 0 0 0 0 0 0 0 0 0 1 1 1 0 0 0 0 0 0 0 0 0 0 0 0 0 0 0 0 0 0 0 0 0 0\n",
      " 0 0 0 0 0 0 0 0 0 0 0 0 0 0 0 0 0 1 1 1 1 1 0 0 0 0 0 0 0 0 0 0 0 0 0 0 0\n",
      " 0 0 0 0 0 0 0 0 0 0 0 0 0 0 1 1 1 1 1 1 1 1 1 1 1 1 1 0 1 1 1 1 1 1 1 1 0\n",
      " 0 0 0 0 0 0 1 1 0 0 0 0 0 1 1 1 1 1 0 0 0 1 0 1 1 1 0 0 0 0 0 0 0 0 0 0 0\n",
      " 0 1 0 0 0 0 0 0 1 1 0 1 1 1 0 1 1 1 1 1 1 1 1 1 0 1 1 1 1 0 0 0 1 1 1 1 0\n",
      " 0 0 1 1 1 1 1 1 0 0 1 1 1 1 0 0 0 0 0 0 0 0 0 0 0 0 0 1 0 0 0 0 0 0 0 0 0\n",
      " 0 0 1 1 1 1 1 0 1 0 1 1 1 0 1 1 1 1 1 1 1 1 1 1 1 1 0 1 1 1 0 0 0 0 0 0 0\n",
      " 0 0 0 0 0 0 0 0 0 0 0 0 0 0 0 0 0 0 0 0 0 0 0 0 0 0 0 0 0 0 0 0 0 0 0 0 0\n",
      " 0 0 0 0 1 1 1 1 1 1 1 1 1 1 1 1 1 1 1 1 1 1 1 1 1 1 1 1 1 0 0 0 0 0 0 0 0\n",
      " 0 0 0 1 0 1 1 0 1 0 0 0 0 0 0 0 0 0 0 0 0 0 0 0 1 1 1 1 0 1 1 1 1 1 1 1 1\n",
      " 1 1 1 1 1 1 0 0 1 0 0 0 0 0 0 0 0 0 0 0 1 1 1 1 1 1 1 0 0 0 0 0 0 0 0 0 0\n",
      " 0 0 0 0 0 0 0 0 0 0 0 0 0 0 0 0 0 0 0 0 0 0 0 0 0 0 0 0 0 0 0 0 0 0 0 0 0\n",
      " 0 0 0 0 0 0 0 0 0 0 0 1 0 0 0 0 0 0 1 1 1 1 1 1 1 0 1 1 1]\n"
     ]
    }
   ],
   "source": [
    "# From SVM, instantiate SVC classifier model instance\n",
    "svm_model = svm.SVC()\n",
    "\n",
    "# Fit the model to the data using the training data\n",
    "svm_model = svm_model.fit(X_train_scaled, y_train)\n",
    " \n",
    "# Use the testing data to make the model predictions\n",
    "svm_pred = svm_model.predict(X_test_scaled)\n",
    "\n",
    "# Review the model's predicted values\n",
    "print(svm_pred)"
   ]
  },
  {
   "cell_type": "code",
   "execution_count": 20,
   "id": "c5de33ae",
   "metadata": {},
   "outputs": [
    {
     "data": {
      "text/plain": [
       "0.7404021937842779"
      ]
     },
     "execution_count": 20,
     "metadata": {},
     "output_type": "execute_result"
    }
   ],
   "source": [
    "accuracy_score(y_test, svm_pred)"
   ]
  },
  {
   "cell_type": "code",
   "execution_count": 21,
   "id": "78fe0977",
   "metadata": {},
   "outputs": [
    {
     "data": {
      "text/plain": [
       "array([[310,  73],\n",
       "       [ 69,  95]])"
      ]
     },
     "execution_count": 21,
     "metadata": {},
     "output_type": "execute_result"
    }
   ],
   "source": [
    "# Generate a confusion matrix for the model\n",
    "\n",
    "confusion_matrix(y_test, svm_pred)"
   ]
  },
  {
   "cell_type": "code",
   "execution_count": 23,
   "id": "28ce90c3",
   "metadata": {},
   "outputs": [
    {
     "name": "stdout",
     "output_type": "stream",
     "text": [
      "              precision    recall  f1-score   support\n",
      "\n",
      "           0       0.82      0.81      0.81       383\n",
      "           1       0.57      0.58      0.57       164\n",
      "\n",
      "    accuracy                           0.74       547\n",
      "   macro avg       0.69      0.69      0.69       547\n",
      "weighted avg       0.74      0.74      0.74       547\n",
      "\n"
     ]
    }
   ],
   "source": [
    "print(classification_report(y_test, svm_pred))"
   ]
  },
  {
   "cell_type": "code",
   "execution_count": 17,
   "id": "99f02bd3",
   "metadata": {},
   "outputs": [],
   "source": [
    "# gradient bosting - Haywar \n",
    "# neural network - Nariman \n",
    "# logistic regressionaccuracy_score(y_test, predictions) - Ramees \n",
    "# random forest - Ramees \n",
    "# LSM models  - Vishnu \n"
   ]
  },
  {
   "cell_type": "markdown",
   "id": "11d37c0e-88c5-4554-abfb-99f61507d0e4",
   "metadata": {},
   "source": [
    "# GB Model "
   ]
  },
  {
   "cell_type": "code",
   "execution_count": 24,
   "id": "9650de52",
   "metadata": {},
   "outputs": [
    {
     "name": "stdout",
     "output_type": "stream",
     "text": [
      "Classification Report:\n",
      "              precision    recall  f1-score   support\n",
      "\n",
      "           0       0.90      0.87      0.89       383\n",
      "           1       0.72      0.78      0.75       164\n",
      "\n",
      "    accuracy                           0.84       547\n",
      "   macro avg       0.81      0.82      0.82       547\n",
      "weighted avg       0.85      0.84      0.84       547\n",
      "\n"
     ]
    }
   ],
   "source": [
    "# Initialize Gradient Boosting Classifier\n",
    "gb_clf = GradientBoostingClassifier(n_estimators=100, learning_rate=0.1, max_depth=3, random_state=42)\n",
    "\n",
    "# Fit the model\n",
    "gb_clf.fit(X_train_scaled, y_train)\n",
    "\n",
    "# Predict the labels\n",
    "y_pred = gb_clf.predict(X_test_scaled)\n",
    "\n",
    "# Generate a classification report\n",
    "print(\"Classification Report:\")\n",
    "print(classification_report(y_test, y_pred))"
   ]
  },
  {
   "cell_type": "code",
   "execution_count": 19,
   "id": "06a335bd-b131-4b9d-b6f8-caec67f51bdd",
   "metadata": {},
   "outputs": [
    {
     "data": {
      "image/png": "[encoded data removed]",
      "text/plain": [
       "<Figure size 640x480 with 1 Axes>"
      ]
     },
     "metadata": {},
     "output_type": "display_data"
    }
   ],
   "source": [
    "filtered_df = df['2019-01-01':'2019-12-31']\n",
    "plot_colored_market_trends(filtered_df)"
   ]
  },
  {
   "cell_type": "markdown",
   "id": "5a21dfa8-49fc-4d60-80f0-933328580180",
   "metadata": {},
   "source": [
    "## Logistics Regression"
   ]
  },
  {
   "cell_type": "code",
   "execution_count": 25,
   "id": "0bb51c6d-4e43-4d96-913a-1a2b95d943b2",
   "metadata": {},
   "outputs": [
    {
     "data": {
      "text/plain": [
       "LogisticRegression(random_state=1)"
      ]
     },
     "execution_count": 25,
     "metadata": {},
     "output_type": "execute_result"
    }
   ],
   "source": [
    "lg_model = LogisticRegression(random_state=1)  \n",
    "\n",
    "# Fit the model using training data\n",
    "lg_model.fit(X_train_scaled,y_train)"
   ]
  },
  {
   "cell_type": "code",
   "execution_count": 26,
   "id": "b6581521-b773-40ff-a4f0-559a2230d75c",
   "metadata": {},
   "outputs": [],
   "source": [
    "lg_predictions = lg_model.predict(X_test_scaled)"
   ]
  },
  {
   "cell_type": "code",
   "execution_count": 27,
   "id": "eec58afc-d177-4be3-a796-daa3f7816307",
   "metadata": {},
   "outputs": [
    {
     "data": {
      "text/plain": [
       "0.7330895795246801"
      ]
     },
     "execution_count": 27,
     "metadata": {},
     "output_type": "execute_result"
    }
   ],
   "source": [
    "accuracy_score(y_test, lg_predictions)"
   ]
  },
  {
   "cell_type": "code",
   "execution_count": 28,
   "id": "d8119d41-6a43-424f-b2dd-099c73836a82",
   "metadata": {},
   "outputs": [
    {
     "data": {
      "text/plain": [
       "array([[365,  18],\n",
       "       [128,  36]])"
      ]
     },
     "execution_count": 28,
     "metadata": {},
     "output_type": "execute_result"
    }
   ],
   "source": [
    "confusion_matrix(y_test, lg_predictions)"
   ]
  },
  {
   "cell_type": "code",
   "execution_count": 29,
   "id": "e483e34d-eb3d-4c2e-8489-61593432a0ec",
   "metadata": {},
   "outputs": [
    {
     "name": "stdout",
     "output_type": "stream",
     "text": [
      "              precision    recall  f1-score   support\n",
      "\n",
      "           0       0.74      0.95      0.83       383\n",
      "           1       0.67      0.22      0.33       164\n",
      "\n",
      "    accuracy                           0.73       547\n",
      "   macro avg       0.70      0.59      0.58       547\n",
      "weighted avg       0.72      0.73      0.68       547\n",
      "\n"
     ]
    }
   ],
   "source": [
    "print(classification_report(y_test, lg_predictions))"
   ]
  },
  {
   "cell_type": "markdown",
   "id": "1c599e10-f033-4ffb-a36f-4f0a5c093f13",
   "metadata": {},
   "source": [
    "## Random Forest "
   ]
  },
  {
   "cell_type": "code",
   "execution_count": 32,
   "id": "5d5dc725-120a-42ae-ae9c-e5035439358d",
   "metadata": {},
   "outputs": [
    {
     "data": {
      "text/plain": [
       "RandomForestClassifier(random_state=1)"
      ]
     },
     "execution_count": 32,
     "metadata": {},
     "output_type": "execute_result"
    }
   ],
   "source": [
    "rf_model = RandomForestClassifier(random_state=1)\n",
    "\n",
    "# Fit the model using training data\n",
    "rf_model.fit(X_train_scaled,y_train)"
   ]
  },
  {
   "cell_type": "code",
   "execution_count": 33,
   "id": "e485b222-fb45-4716-9fce-ff59b6124e2b",
   "metadata": {},
   "outputs": [],
   "source": [
    "rf_predictions = rf_model.predict(X_test_scaled)"
   ]
  },
  {
   "cell_type": "code",
   "execution_count": 34,
   "id": "fb4864ea-c1d0-4de5-802a-15dbfc3856d9",
   "metadata": {},
   "outputs": [
    {
     "data": {
      "text/plain": [
       "0.7787934186471663"
      ]
     },
     "execution_count": 34,
     "metadata": {},
     "output_type": "execute_result"
    }
   ],
   "source": [
    "accuracy_score(y_test, rf_predictions)"
   ]
  },
  {
   "cell_type": "code",
   "execution_count": 35,
   "id": "0b5f8daf-918e-447f-b00f-0b2391939c97",
   "metadata": {},
   "outputs": [
    {
     "data": {
      "text/plain": [
       "array([[287,  96],\n",
       "       [ 25, 139]])"
      ]
     },
     "execution_count": 35,
     "metadata": {},
     "output_type": "execute_result"
    }
   ],
   "source": [
    "confusion_matrix(y_test, rf_predictions)"
   ]
  },
  {
   "cell_type": "code",
   "execution_count": 36,
   "id": "de2d6cc1-390b-48a5-8280-15fca527ac46",
   "metadata": {},
   "outputs": [
    {
     "name": "stdout",
     "output_type": "stream",
     "text": [
      "              precision    recall  f1-score   support\n",
      "\n",
      "           0       0.92      0.75      0.83       383\n",
      "           1       0.59      0.85      0.70       164\n",
      "\n",
      "    accuracy                           0.78       547\n",
      "   macro avg       0.76      0.80      0.76       547\n",
      "weighted avg       0.82      0.78      0.79       547\n",
      "\n"
     ]
    }
   ],
   "source": [
    "print(classification_report(y_test, rf_predictions))"
   ]
  },
  {
   "cell_type": "markdown",
   "id": "0960c988-86be-45ea-b461-d944b543a279",
   "metadata": {},
   "source": [
    "## LSTM"
   ]
  },
  {
   "cell_type": "code",
   "execution_count": 30,
   "id": "cb0288db-b215-45b6-aee9-9b3c76095e49",
   "metadata": {},
   "outputs": [],
   "source": [
    "nn = Sequential()\n",
    "\n",
    "# Creating the first hidden layer\n",
    "nn.add(LSTM(units = 70, return_sequences = True, input_shape = (X_train_scaled.shape[1],1)))\n",
    "nn.add(Dropout(0.2))\n",
    "\n",
    "# Creating the second hidden layer\n",
    "nn.add(LSTM(units = 60, return_sequences = True, activation = 'relu'))\n",
    "nn.add(Dropout(0.1))\n",
    "\n",
    "# Creating the third hidden layer\n",
    "nn.add(LSTM(units = 60, return_sequences = True, activation = 'relu'))\n",
    "nn.add(Dropout(0.1))\n",
    "\n",
    "# Creating the fourth hidden layer\n",
    "nn.add(LSTM(units = 60, activation = 'relu'))\n",
    "nn.add(Dropout(0.1))\n",
    "\n",
    "# Creating the output layer to the model \n",
    "nn.add(Dense(units = 1, activation= 'sigmoid'))\n"
   ]
  },
  {
   "cell_type": "code",
   "execution_count": 31,
   "id": "796e57e0-af45-404c-bca3-2f2b89308314",
   "metadata": {},
   "outputs": [
    {
     "name": "stdout",
     "output_type": "stream",
     "text": [
      "Model: \"sequential\"\n",
      "_________________________________________________________________\n",
      " Layer (type)                Output Shape              Param #   \n",
      "=================================================================\n",
      " lstm (LSTM)                 (None, 11, 70)            20160     \n",
      "                                                                 \n",
      " dropout (Dropout)           (None, 11, 70)            0         \n",
      "                                                                 \n",
      " lstm_1 (LSTM)               (None, 11, 60)            31440     \n",
      "                                                                 \n",
      " dropout_1 (Dropout)         (None, 11, 60)            0         \n",
      "                                                                 \n",
      " lstm_2 (LSTM)               (None, 11, 60)            29040     \n",
      "                                                                 \n",
      " dropout_2 (Dropout)         (None, 11, 60)            0         \n",
      "                                                                 \n",
      " lstm_3 (LSTM)               (None, 60)                29040     \n",
      "                                                                 \n",
      " dropout_3 (Dropout)         (None, 60)                0         \n",
      "                                                                 \n",
      " dense (Dense)               (None, 1)                 61        \n",
      "                                                                 \n",
      "=================================================================\n",
      "Total params: 109,741\n",
      "Trainable params: 109,741\n",
      "Non-trainable params: 0\n",
      "_________________________________________________________________\n"
     ]
    }
   ],
   "source": [
    "# Display the LSTM model summary\n",
    "nn.summary()"
   ]
  },
  {
   "cell_type": "code",
   "execution_count": 32,
   "id": "0a8aeecd-d24d-4f3e-ae79-75f79bc42a8f",
   "metadata": {},
   "outputs": [],
   "source": [
    "# Compile the model\n",
    "nn.compile(optimizer = 'adam', loss = 'mean_squared_error', metrics = ['accuracy'])\n"
   ]
  },
  {
   "cell_type": "code",
   "execution_count": 33,
   "id": "edfcc611-4787-404f-ba9a-6bc3987ff2e8",
   "metadata": {},
   "outputs": [
    {
     "name": "stdout",
     "output_type": "stream",
     "text": [
      "Epoch 1/50\n",
      "112/112 [==============================] - 22s 55ms/step - loss: 0.2378 - accuracy: 0.6094\n",
      "Epoch 2/50\n",
      "112/112 [==============================] - 6s 55ms/step - loss: 0.2246 - accuracy: 0.6243\n",
      "Epoch 3/50\n",
      "112/112 [==============================] - 6s 54ms/step - loss: 0.2076 - accuracy: 0.6918\n",
      "Epoch 4/50\n",
      "112/112 [==============================] - 6s 55ms/step - loss: 0.2016 - accuracy: 0.6985\n",
      "Epoch 5/50\n",
      "112/112 [==============================] - 6s 55ms/step - loss: 0.1979 - accuracy: 0.7083\n",
      "Epoch 6/50\n",
      "112/112 [==============================] - 6s 55ms/step - loss: 0.1941 - accuracy: 0.7142\n",
      "Epoch 7/50\n",
      "112/112 [==============================] - 6s 55ms/step - loss: 0.1908 - accuracy: 0.7249\n",
      "Epoch 8/50\n",
      "112/112 [==============================] - 6s 54ms/step - loss: 0.1839 - accuracy: 0.7386\n",
      "Epoch 9/50\n",
      "112/112 [==============================] - 6s 54ms/step - loss: 0.1797 - accuracy: 0.7450\n",
      "Epoch 10/50\n",
      "112/112 [==============================] - 6s 55ms/step - loss: 0.1777 - accuracy: 0.7445\n",
      "Epoch 11/50\n",
      "112/112 [==============================] - 6s 54ms/step - loss: 0.1763 - accuracy: 0.7478\n",
      "Epoch 12/50\n",
      "112/112 [==============================] - 6s 53ms/step - loss: 0.1732 - accuracy: 0.7537\n",
      "Epoch 13/50\n",
      "112/112 [==============================] - 6s 55ms/step - loss: 0.1728 - accuracy: 0.7548\n",
      "Epoch 14/50\n",
      "112/112 [==============================] - 6s 54ms/step - loss: 0.1709 - accuracy: 0.7666\n",
      "Epoch 15/50\n",
      "112/112 [==============================] - 6s 54ms/step - loss: 0.1692 - accuracy: 0.7621\n",
      "Epoch 16/50\n",
      "112/112 [==============================] - 6s 55ms/step - loss: 0.1692 - accuracy: 0.7574\n",
      "Epoch 17/50\n",
      "112/112 [==============================] - 6s 55ms/step - loss: 0.1646 - accuracy: 0.7694\n",
      "Epoch 18/50\n",
      "112/112 [==============================] - 6s 54ms/step - loss: 0.1629 - accuracy: 0.7742\n",
      "Epoch 19/50\n",
      "112/112 [==============================] - 6s 55ms/step - loss: 0.1629 - accuracy: 0.7649\n",
      "Epoch 20/50\n",
      "112/112 [==============================] - 6s 55ms/step - loss: 0.1627 - accuracy: 0.7697\n",
      "Epoch 21/50\n",
      "112/112 [==============================] - 6s 55ms/step - loss: 0.1613 - accuracy: 0.7728\n",
      "Epoch 22/50\n",
      "112/112 [==============================] - 6s 55ms/step - loss: 0.1609 - accuracy: 0.7728\n",
      "Epoch 23/50\n",
      "112/112 [==============================] - 6s 55ms/step - loss: 0.1554 - accuracy: 0.7781\n",
      "Epoch 24/50\n",
      "112/112 [==============================] - 6s 54ms/step - loss: 0.1534 - accuracy: 0.7837\n",
      "Epoch 25/50\n",
      "112/112 [==============================] - 6s 54ms/step - loss: 0.1548 - accuracy: 0.7750\n",
      "Epoch 26/50\n",
      "112/112 [==============================] - 6s 54ms/step - loss: 0.1501 - accuracy: 0.7840\n",
      "Epoch 27/50\n",
      "112/112 [==============================] - 6s 55ms/step - loss: 0.1453 - accuracy: 0.7966\n",
      "Epoch 28/50\n",
      "112/112 [==============================] - 6s 54ms/step - loss: 0.1417 - accuracy: 0.7985\n",
      "Epoch 29/50\n",
      "112/112 [==============================] - 6s 55ms/step - loss: 0.1418 - accuracy: 0.7938\n",
      "Epoch 30/50\n",
      "112/112 [==============================] - 6s 55ms/step - loss: 0.1378 - accuracy: 0.7966\n",
      "Epoch 31/50\n",
      "112/112 [==============================] - 6s 55ms/step - loss: 0.1368 - accuracy: 0.8013\n",
      "Epoch 32/50\n",
      "112/112 [==============================] - 6s 55ms/step - loss: 0.1330 - accuracy: 0.8083\n",
      "Epoch 33/50\n",
      "112/112 [==============================] - 6s 53ms/step - loss: 0.1347 - accuracy: 0.8041\n",
      "Epoch 34/50\n",
      "112/112 [==============================] - 6s 54ms/step - loss: 0.1322 - accuracy: 0.8058\n",
      "Epoch 35/50\n",
      "112/112 [==============================] - 6s 55ms/step - loss: 0.1325 - accuracy: 0.8061\n",
      "Epoch 36/50\n",
      "112/112 [==============================] - 6s 55ms/step - loss: 0.1342 - accuracy: 0.8086\n",
      "Epoch 37/50\n",
      "112/112 [==============================] - 6s 55ms/step - loss: 0.1283 - accuracy: 0.8179\n",
      "Epoch 38/50\n",
      "112/112 [==============================] - 6s 55ms/step - loss: 0.1293 - accuracy: 0.8106\n",
      "Epoch 39/50\n",
      "112/112 [==============================] - 6s 55ms/step - loss: 0.1263 - accuracy: 0.8179\n",
      "Epoch 40/50\n",
      "112/112 [==============================] - 6s 55ms/step - loss: 0.1272 - accuracy: 0.8109\n",
      "Epoch 41/50\n",
      "112/112 [==============================] - 6s 55ms/step - loss: 0.1261 - accuracy: 0.8106\n",
      "Epoch 42/50\n",
      "112/112 [==============================] - 6s 55ms/step - loss: 0.1247 - accuracy: 0.8145\n",
      "Epoch 43/50\n",
      "112/112 [==============================] - 6s 55ms/step - loss: 0.1236 - accuracy: 0.8179\n",
      "Epoch 44/50\n",
      "112/112 [==============================] - 6s 55ms/step - loss: 0.1224 - accuracy: 0.8215\n",
      "Epoch 45/50\n",
      "112/112 [==============================] - 6s 55ms/step - loss: 0.1212 - accuracy: 0.8229\n",
      "Epoch 46/50\n",
      "112/112 [==============================] - 6s 55ms/step - loss: 0.1192 - accuracy: 0.8263\n",
      "Epoch 47/50\n",
      "112/112 [==============================] - 6s 53ms/step - loss: 0.1190 - accuracy: 0.8254\n",
      "Epoch 48/50\n",
      "112/112 [==============================] - 6s 55ms/step - loss: 0.1185 - accuracy: 0.8288\n",
      "Epoch 49/50\n",
      "112/112 [==============================] - 6s 55ms/step - loss: 0.1196 - accuracy: 0.8238\n",
      "Epoch 50/50\n",
      "112/112 [==============================] - 6s 55ms/step - loss: 0.1180 - accuracy: 0.8285\n"
     ]
    },
    {
     "data": {
      "text/plain": [
       "<keras.callbacks.History at 0x2c099a4a2f0>"
      ]
     },
     "execution_count": 33,
     "metadata": {},
     "output_type": "execute_result"
    }
   ],
   "source": [
    "# Fit the model with the scaled train data and corresponding lables with 50 epochs\n",
    "nn.fit(X_train_scaled, y_train, epochs = 50, batch_size = 32)"
   ]
  },
  {
   "cell_type": "code",
   "execution_count": 34,
   "id": "fc371a2d-b393-4300-9e1c-5073a0d90ee3",
   "metadata": {},
   "outputs": [
    {
     "name": "stdout",
     "output_type": "stream",
     "text": [
      "38/38 [==============================] - 3s 19ms/step\n"
     ]
    },
    {
     "data": {
      "text/plain": [
       "array([0, 0, 0, ..., 0, 0, 1])"
      ]
     },
     "execution_count": 34,
     "metadata": {},
     "output_type": "execute_result"
    }
   ],
   "source": [
    "# Display the prdictions by the model on the test data\n",
    "pred = nn.predict(X_test_scaled)\n",
    "\n",
    "# convert predictions to binary and required data structure\n",
    "lstm_pred= np.where(pred > 0.5, 1, 0).ravel()\n",
    "lstm_pred"
   ]
  },
  {
   "cell_type": "code",
   "execution_count": 35,
   "id": "b98f7c55-fb79-4452-95ae-d2bfd31b75ab",
   "metadata": {
    "tags": []
   },
   "outputs": [
    {
     "name": "stdout",
     "output_type": "stream",
     "text": [
      "              precision    recall  f1-score   support\n",
      "\n",
      "           0       0.82      0.94      0.88       742\n",
      "           1       0.87      0.65      0.74       448\n",
      "\n",
      "    accuracy                           0.83      1190\n",
      "   macro avg       0.84      0.80      0.81      1190\n",
      "weighted avg       0.84      0.83      0.83      1190\n",
      "\n"
     ]
    }
   ],
   "source": [
    "# Obtain the classification report of the predictions\n",
    "print(classification_report(y_test, lstm_pred))\n"
   ]
  },
  {
   "cell_type": "code",
   "execution_count": 7,
   "id": "e4fd97ba-73ae-4081-bfdc-e83a376ed110",
   "metadata": {},
   "outputs": [],
   "source": [
    "#add backtesting with strategy \n",
    "df = pd.read_csv(\"./bitcoin_2010-07-24_2023-08-23.csv\")\n",
    "df['Start']=pd.to_datetime(df['Start'])\n",
    "df.set_index('Start',inplace=True)\n",
    "df.sort_index(ascending=True,inplace=True)\n",
    "df.drop('End',axis=1,inplace=True)\n",
    "\n",
    "df = get_ta(df)\n",
    "df = label_market(df,2)\n",
    "\n",
    "X = df.drop(columns=[\"MarketLabel\"])\n",
    "y = df[\"MarketLabel\"]\n",
    "\n",
    "split_date = pd.Timestamp('2022-01-01')\n",
    "validation_date = pd.Timestamp('2023-07-01')\n",
    "# Training data up to end of 2021\n",
    "X_train = X.loc[:split_date]\n",
    "y_train = y.loc[:split_date]\n",
    "\n",
    "# Test data starting from 2022 to 2023-July\n",
    "X_test = X.loc[split_date:validation_date]\n",
    "y_test = y.loc[split_date:validation_date]\n",
    "\n",
    "X_validation = X.loc[validation_date:]\n",
    "y_validation = y.loc[validation_date:]"
   ]
  },
  {
   "cell_type": "code",
   "execution_count": 8,
   "id": "74e27497-cc81-4940-a421-c96b54f168b0",
   "metadata": {},
   "outputs": [],
   "source": [
    "def plot_colored_market_trends_1(df,predictions):\n",
    "    fig, ax = plt.subplots()\n",
    "    prev_price = df['Close'].iloc[0]\n",
    "    prev_date = df.index[0]\n",
    "    prev_label = df['MarketLabel'].iloc[0]\n",
    "\n",
    "    for i, (date, row) in enumerate(df.iterrows()):\n",
    "        current_price = row['Close']\n",
    "        current_label = predictions[i]\n",
    "        \n",
    "        color = 'g' if current_label == 1 else 'b'\n",
    "        \n",
    "        ax.plot([prev_date, date], [prev_price, current_price], color=color)\n",
    "        \n",
    "        prev_price = current_price\n",
    "        prev_date = date\n",
    "        prev_label = current_label\n",
    "\n",
    "    ax.set_title('BTC Prices with Market Labels')\n",
    "    ax.set_xlabel('Date')\n",
    "    ax.set_ylabel('Close Price')\n",
    "\n",
    "    plt.show()"
   ]
  },
  {
   "cell_type": "code",
   "execution_count": 11,
   "id": "a8f98f21-9757-4106-9481-be319ffefa28",
   "metadata": {},
   "outputs": [
    {
     "name": "stdout",
     "output_type": "stream",
     "text": [
      "Accuracy on validation data:  0.660377358490566\n",
      "Confusion Matrix on validation data: \n",
      " [[28  2]\n",
      " [16  7]]\n",
      "Classification Report on validation data: \n",
      "               precision    recall  f1-score   support\n",
      "\n",
      "           0       0.64      0.93      0.76        30\n",
      "           1       0.78      0.30      0.44        23\n",
      "\n",
      "    accuracy                           0.66        53\n",
      "   macro avg       0.71      0.62      0.60        53\n",
      "weighted avg       0.70      0.66      0.62        53\n",
      "\n"
     ]
    }
   ],
   "source": [
    "#validation for svm\n",
    "# 1. Scale the validation data\n",
    "\n",
    "scaler = StandardScaler()\n",
    "X_scaler = scaler.fit(X_train)\n",
    "X_train_scaled = X_scaler.transform(X_train)\n",
    "X_test_scaled = X_scaler.transform(X_test)\n",
    "X_validation_scaled = X_scaler.transform(X_validation)\n",
    "\n",
    "# From SVM, instantiate SVC classifier model instance\n",
    "svm_model = svm.SVC()\n",
    "svm_model = svm_model.fit(X_train_scaled, y_train)\n",
    "\n",
    "# 2. Make predictions on the validation data\n",
    "svm_validation_pred = svm_model.predict(X_validation_scaled)\n",
    "\n",
    "# 3. Evaluate the model's performance\n",
    "print(\"Accuracy on validation data: \", accuracy_score(y_validation, svm_validation_pred))\n",
    "print(\"Confusion Matrix on validation data: \\n\", confusion_matrix(y_validation, svm_validation_pred))\n",
    "print(\"Classification Report on validation data: \\n\", classification_report(y_validation, svm_validation_pred))\n"
   ]
  },
  {
   "cell_type": "code",
   "execution_count": 12,
   "id": "ca1c592b-7992-471f-accc-980b7c03aada",
   "metadata": {},
   "outputs": [
    {
     "data": {
      "image/png": "[encoded data removed]",
      "text/plain": [
       "<Figure size 640x480 with 1 Axes>"
      ]
     },
     "metadata": {},
     "output_type": "display_data"
    }
   ],
   "source": [
    "#validation plot for svm\n",
    "plot_colored_market_trends_1(df['2023-07-01':],svm_validation_pred)"
   ]
  },
  {
   "cell_type": "code",
   "execution_count": null,
   "id": "6bca9303-6ff3-4c0e-843a-4f8c6f7b5cd5",
   "metadata": {},
   "outputs": [],
   "source": []
  }
 ],
 "metadata": {
  "kernelspec": {
   "display_name": "Python 3 (ipykernel)",
   "language": "python",
   "name": "python3"
  },
  "language_info": {
   "codemirror_mode": {
    "name": "ipython",
    "version": 3
   },
   "file_extension": ".py",
   "mimetype": "text/x-python",
   "name": "python",
   "nbconvert_exporter": "python",
   "pygments_lexer": "ipython3",
   "version": "3.9.13"
  }
 },
 "nbformat": 4,
 "nbformat_minor": 5
}
