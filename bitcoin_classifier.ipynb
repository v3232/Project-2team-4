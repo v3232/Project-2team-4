{
 "cells": [
  {
   "cell_type": "code",
   "execution_count": 1,
   "id": "13997cd3-8c94-46e8-b7e0-c4dc3d233a86",
   "metadata": {},
   "outputs": [],
   "source": [
    "import pandas as pd\n",
    "from finta import TA\n",
    "import matplotlib.pyplot as plt\n",
    "from sklearn.metrics import accuracy_score\n",
    "from sklearn.metrics import confusion_matrix\n",
    "from sklearn.metrics import classification_report\n",
    "from sklearn.model_selection import train_test_split\n",
    "from sklearn.preprocessing import StandardScaler\n",
    "from sklearn import svm\n",
    "from sklearn.linear_model import LogisticRegression\n",
    "from sklearn.ensemble import RandomForestClassifier\n",
    "\n",
    "import warnings\n",
    "warnings.filterwarnings('ignore')"
   ]
  },
  {
   "cell_type": "code",
   "execution_count": 5,
   "id": "250a9e80-e19d-4395-8606-866031e8780b",
   "metadata": {},
   "outputs": [
    {
     "data": {
      "text/html": [
       "<div>\n",
       "<style scoped>\n",
       "    .dataframe tbody tr th:only-of-type {\n",
       "        vertical-align: middle;\n",
       "    }\n",
       "\n",
       "    .dataframe tbody tr th {\n",
       "        vertical-align: top;\n",
       "    }\n",
       "\n",
       "    .dataframe thead th {\n",
       "        text-align: right;\n",
       "    }\n",
       "</style>\n",
       "<table border=\"1\" class=\"dataframe\">\n",
       "  <thead>\n",
       "    <tr style=\"text-align: right;\">\n",
       "      <th></th>\n",
       "      <th>Open</th>\n",
       "      <th>High</th>\n",
       "      <th>Low</th>\n",
       "      <th>Close</th>\n",
       "      <th>Volume</th>\n",
       "      <th>Market Cap</th>\n",
       "    </tr>\n",
       "    <tr>\n",
       "      <th>Start</th>\n",
       "      <th></th>\n",
       "      <th></th>\n",
       "      <th></th>\n",
       "      <th></th>\n",
       "      <th></th>\n",
       "      <th></th>\n",
       "    </tr>\n",
       "  </thead>\n",
       "  <tbody>\n",
       "    <tr>\n",
       "      <th>2010-07-24</th>\n",
       "      <td>0.0545</td>\n",
       "      <td>0.0545</td>\n",
       "      <td>0.0545</td>\n",
       "      <td>0.0545</td>\n",
       "      <td>0.000000e+00</td>\n",
       "      <td>0.000000e+00</td>\n",
       "    </tr>\n",
       "    <tr>\n",
       "      <th>2010-07-25</th>\n",
       "      <td>0.0505</td>\n",
       "      <td>0.0505</td>\n",
       "      <td>0.0505</td>\n",
       "      <td>0.0505</td>\n",
       "      <td>0.000000e+00</td>\n",
       "      <td>0.000000e+00</td>\n",
       "    </tr>\n",
       "    <tr>\n",
       "      <th>2010-07-26</th>\n",
       "      <td>0.0560</td>\n",
       "      <td>0.0560</td>\n",
       "      <td>0.0560</td>\n",
       "      <td>0.0560</td>\n",
       "      <td>0.000000e+00</td>\n",
       "      <td>0.000000e+00</td>\n",
       "    </tr>\n",
       "    <tr>\n",
       "      <th>2010-07-27</th>\n",
       "      <td>0.0600</td>\n",
       "      <td>0.0600</td>\n",
       "      <td>0.0600</td>\n",
       "      <td>0.0600</td>\n",
       "      <td>0.000000e+00</td>\n",
       "      <td>0.000000e+00</td>\n",
       "    </tr>\n",
       "    <tr>\n",
       "      <th>2010-07-28</th>\n",
       "      <td>0.0589</td>\n",
       "      <td>0.0589</td>\n",
       "      <td>0.0589</td>\n",
       "      <td>0.0589</td>\n",
       "      <td>0.000000e+00</td>\n",
       "      <td>0.000000e+00</td>\n",
       "    </tr>\n",
       "    <tr>\n",
       "      <th>...</th>\n",
       "      <td>...</td>\n",
       "      <td>...</td>\n",
       "      <td>...</td>\n",
       "      <td>...</td>\n",
       "      <td>...</td>\n",
       "      <td>...</td>\n",
       "    </tr>\n",
       "    <tr>\n",
       "      <th>2023-08-18</th>\n",
       "      <td>26659.8500</td>\n",
       "      <td>26784.2300</td>\n",
       "      <td>25721.5300</td>\n",
       "      <td>26058.2600</td>\n",
       "      <td>7.032831e+10</td>\n",
       "      <td>5.115170e+11</td>\n",
       "    </tr>\n",
       "    <tr>\n",
       "      <th>2023-08-19</th>\n",
       "      <td>26069.2300</td>\n",
       "      <td>26253.2600</td>\n",
       "      <td>25814.2500</td>\n",
       "      <td>26090.6300</td>\n",
       "      <td>4.769626e+10</td>\n",
       "      <td>5.060530e+11</td>\n",
       "    </tr>\n",
       "    <tr>\n",
       "      <th>2023-08-20</th>\n",
       "      <td>26085.1800</td>\n",
       "      <td>26267.3300</td>\n",
       "      <td>26002.0300</td>\n",
       "      <td>26180.0000</td>\n",
       "      <td>3.624048e+10</td>\n",
       "      <td>5.084380e+11</td>\n",
       "    </tr>\n",
       "    <tr>\n",
       "      <th>2023-08-21</th>\n",
       "      <td>26182.7900</td>\n",
       "      <td>26201.8600</td>\n",
       "      <td>25879.4800</td>\n",
       "      <td>26123.4500</td>\n",
       "      <td>3.897847e+10</td>\n",
       "      <td>5.073480e+11</td>\n",
       "    </tr>\n",
       "    <tr>\n",
       "      <th>2023-08-22</th>\n",
       "      <td>26134.0500</td>\n",
       "      <td>26134.0500</td>\n",
       "      <td>25593.7900</td>\n",
       "      <td>26048.0900</td>\n",
       "      <td>4.275523e+10</td>\n",
       "      <td>5.057130e+11</td>\n",
       "    </tr>\n",
       "  </tbody>\n",
       "</table>\n",
       "<p>4778 rows × 6 columns</p>\n",
       "</div>"
      ],
      "text/plain": [
       "                  Open        High         Low       Close        Volume  \\\n",
       "Start                                                                      \n",
       "2010-07-24      0.0545      0.0545      0.0545      0.0545  0.000000e+00   \n",
       "2010-07-25      0.0505      0.0505      0.0505      0.0505  0.000000e+00   \n",
       "2010-07-26      0.0560      0.0560      0.0560      0.0560  0.000000e+00   \n",
       "2010-07-27      0.0600      0.0600      0.0600      0.0600  0.000000e+00   \n",
       "2010-07-28      0.0589      0.0589      0.0589      0.0589  0.000000e+00   \n",
       "...                ...         ...         ...         ...           ...   \n",
       "2023-08-18  26659.8500  26784.2300  25721.5300  26058.2600  7.032831e+10   \n",
       "2023-08-19  26069.2300  26253.2600  25814.2500  26090.6300  4.769626e+10   \n",
       "2023-08-20  26085.1800  26267.3300  26002.0300  26180.0000  3.624048e+10   \n",
       "2023-08-21  26182.7900  26201.8600  25879.4800  26123.4500  3.897847e+10   \n",
       "2023-08-22  26134.0500  26134.0500  25593.7900  26048.0900  4.275523e+10   \n",
       "\n",
       "              Market Cap  \n",
       "Start                     \n",
       "2010-07-24  0.000000e+00  \n",
       "2010-07-25  0.000000e+00  \n",
       "2010-07-26  0.000000e+00  \n",
       "2010-07-27  0.000000e+00  \n",
       "2010-07-28  0.000000e+00  \n",
       "...                  ...  \n",
       "2023-08-18  5.115170e+11  \n",
       "2023-08-19  5.060530e+11  \n",
       "2023-08-20  5.084380e+11  \n",
       "2023-08-21  5.073480e+11  \n",
       "2023-08-22  5.057130e+11  \n",
       "\n",
       "[4778 rows x 6 columns]"
      ]
     },
     "execution_count": 5,
     "metadata": {},
     "output_type": "execute_result"
    }
   ],
   "source": [
    "df = pd.read_csv(\"./bitcoin_2010-07-24_2023-08-23.csv\")\n",
    "df['Start']=pd.to_datetime(df['Start'])\n",
    "df.set_index('Start',inplace=True)\n",
    "df.sort_index(ascending=True,inplace=True)\n",
    "df.drop('End',axis=1,inplace=True)\n",
    "df"
   ]
  },
  {
   "cell_type": "markdown",
   "id": "613665ac",
   "metadata": {},
   "source": []
  },
  {
   "cell_type": "code",
   "execution_count": 6,
   "id": "30d52bb9-e836-4910-af80-5e931933ff2d",
   "metadata": {},
   "outputs": [],
   "source": [
    "# Calculate ADX\n",
    "df['ADX'] = TA.ADX(df)\n",
    "\n",
    "# Calculate RSI\n",
    "df['RSI'] = TA.RSI(df)\n",
    "\n",
    "# Calculate Bollinger Bands\n",
    "bollinger_bands = TA.BBANDS(df)\n",
    "df['BollingerUpper'] = bollinger_bands['BB_UPPER']\n",
    "df['BollingerMiddle'] = bollinger_bands['BB_MIDDLE']\n",
    "df['BollingerLower'] = bollinger_bands['BB_LOWER']\n",
    "\n",
    "df.dropna(inplace=True)"
   ]
  },
  {
   "cell_type": "code",
   "execution_count": 7,
   "id": "542988ec-0cb9-4908-b5fe-efee638f37a8",
   "metadata": {},
   "outputs": [],
   "source": [
    "def label_market(df, criteria):\n",
    "    df['MarketLabel'] = 0\n",
    "    indices = df.index.tolist()\n",
    "    \n",
    "    for i in range(len(indices)):\n",
    "        current_index = indices[i]\n",
    "        trendy_count = 0\n",
    "        \n",
    "        if df.loc[current_index, 'ADX'] > 25:\n",
    "            trendy_count += 1\n",
    "        \n",
    "        if df.loc[current_index, 'RSI'] < 30 or df.loc[current_index, 'RSI'] > 70:\n",
    "            trendy_count += 1\n",
    "\n",
    "        if i > 0:\n",
    "            previous_index = indices[i-1]\n",
    "            current_width = df.loc[current_index, 'BollingerUpper'] - df.loc[current_index, 'BollingerLower']\n",
    "            previous_width = df.loc[previous_index, 'BollingerUpper'] - df.loc[previous_index, 'BollingerLower']\n",
    "            \n",
    "            if current_width > previous_width:\n",
    "                trendy_count += 1\n",
    "\n",
    "        if trendy_count >= criteria:\n",
    "            df.loc[current_index, 'MarketLabel'] = 1  # Trendy\n",
    "            \n",
    "    return df"
   ]
  },
  {
   "cell_type": "code",
   "execution_count": 8,
   "id": "545c76ba-fd8e-4f74-a41d-27bfa3ff18fb",
   "metadata": {},
   "outputs": [],
   "source": [
    "def plot_colored_market_trends(df):\n",
    "    fig, ax = plt.subplots()\n",
    "    prev_price = df['Close'].iloc[0]\n",
    "    prev_date = df.index[0]\n",
    "    prev_label = df['MarketLabel'].iloc[0]\n",
    "\n",
    "    for date, row in df.iterrows():\n",
    "        current_price = row['Close']\n",
    "        current_label = row['MarketLabel']\n",
    "        \n",
    "        color = 'g' if current_label == 1 else 'b'\n",
    "        \n",
    "        ax.plot([prev_date, date], [prev_price, current_price], color=color)\n",
    "        \n",
    "        prev_price = current_price\n",
    "        prev_date = date\n",
    "        prev_label = current_label\n",
    "\n",
    "    ax.set_title('BTC Prices with Market Labels')\n",
    "    ax.set_xlabel('Date')\n",
    "    ax.set_ylabel('Close Price')\n",
    "\n",
    "    plt.show()"
   ]
  },
  {
   "cell_type": "code",
   "execution_count": 9,
   "id": "6b0e01d3",
   "metadata": {},
   "outputs": [],
   "source": [
    "df.head(30)\n",
    "df=label_market(df,2)\n"
   ]
  },
  {
   "cell_type": "code",
   "execution_count": 10,
   "id": "0e061e96",
   "metadata": {},
   "outputs": [
    {
     "data": {
      "image/png": "[encoded data removed]",
      "text/plain": [
       "<Figure size 640x480 with 1 Axes>"
      ]
     },
     "metadata": {},
     "output_type": "display_data"
    }
   ],
   "source": [
    "plot_colored_market_trends(df)"
   ]
  },
  {
   "cell_type": "code",
   "execution_count": 11,
   "id": "18080680",
   "metadata": {},
   "outputs": [
    {
     "data": {
      "text/plain": [
       "0    2921\n",
       "1    1838\n",
       "Name: MarketLabel, dtype: int64"
      ]
     },
     "execution_count": 11,
     "metadata": {},
     "output_type": "execute_result"
    }
   ],
   "source": [
    "df['MarketLabel'].value_counts()"
   ]
  },
  {
   "cell_type": "code",
   "execution_count": 12,
   "id": "3f1a7b38",
   "metadata": {},
   "outputs": [],
   "source": [
    "X = df.drop(columns=[\"MarketLabel\"])\n",
    "y = df[\"MarketLabel\"]"
   ]
  },
  {
   "cell_type": "code",
   "execution_count": 13,
   "id": "80e3697a",
   "metadata": {},
   "outputs": [],
   "source": [
    "# Split the data using train_test_split\n",
    "# Assign a random_state of 1 to the function\n",
    "X_train, X_test, y_train, y_test = train_test_split(X,y,random_state=1)"
   ]
  },
  {
   "cell_type": "code",
   "execution_count": 14,
   "id": "92c05a80",
   "metadata": {},
   "outputs": [],
   "source": [
    "# Create a StandardScaler instance\n",
    "scaler = StandardScaler()\n",
    "\n",
    "# Fit the scaler to the features training dataset\n",
    "X_scaler = scaler.fit(X_train)\n",
    "\n",
    "# Fit the scaler to the features training dataset\n",
    "X_train_scaled = X_scaler.transform(X_train)\n",
    "X_test_scaled = X_scaler.transform(X_test)"
   ]
  },
  {
   "cell_type": "markdown",
   "id": "0ffb7626",
   "metadata": {},
   "source": [
    "SVM Model "
   ]
  },
  {
   "cell_type": "code",
   "execution_count": 15,
   "id": "bd3f5d43",
   "metadata": {},
   "outputs": [
    {
     "name": "stdout",
     "output_type": "stream",
     "text": [
      "[0 0 0 ... 0 0 1]\n"
     ]
    }
   ],
   "source": [
    "# From SVM, instantiate SVC classifier model instance\n",
    "svm_model = svm.SVC()\n",
    "\n",
    "# Fit the model to the data using the training data\n",
    "svm_model = svm_model.fit(X_train_scaled, y_train)\n",
    " \n",
    "# Use the testing data to make the model predictions\n",
    "svm_pred = svm_model.predict(X_test_scaled)\n",
    "\n",
    "# Review the model's predicted values\n",
    "print(svm_pred)"
   ]
  },
  {
   "cell_type": "code",
   "execution_count": 16,
   "id": "c5de33ae",
   "metadata": {},
   "outputs": [
    {
     "data": {
      "text/plain": [
       "0.8327731092436975"
      ]
     },
     "execution_count": 16,
     "metadata": {},
     "output_type": "execute_result"
    }
   ],
   "source": [
    "accuracy_score(y_test, svm_pred)"
   ]
  },
  {
   "cell_type": "code",
   "execution_count": 17,
   "id": "78fe0977",
   "metadata": {},
   "outputs": [
    {
     "data": {
      "text/plain": [
       "array([[712,  30],\n",
       "       [169, 279]])"
      ]
     },
     "execution_count": 17,
     "metadata": {},
     "output_type": "execute_result"
    }
   ],
   "source": [
    "# Generate a confusion matrix for the model\n",
    "\n",
    "confusion_matrix(y_test, svm_pred)"
   ]
  },
  {
   "cell_type": "code",
   "execution_count": 18,
   "id": "28ce90c3",
   "metadata": {},
   "outputs": [
    {
     "name": "stdout",
     "output_type": "stream",
     "text": [
      "              precision    recall  f1-score   support\n",
      "\n",
      "           0       0.81      0.96      0.88       742\n",
      "           1       0.90      0.62      0.74       448\n",
      "\n",
      "    accuracy                           0.83      1190\n",
      "   macro avg       0.86      0.79      0.81      1190\n",
      "weighted avg       0.84      0.83      0.82      1190\n",
      "\n"
     ]
    }
   ],
   "source": [
    "print(classification_report(y_test, svm_pred))"
   ]
  },
  {
   "cell_type": "code",
   "execution_count": 19,
   "id": "99f02bd3",
   "metadata": {},
   "outputs": [],
   "source": [
    "# gradient bosting - Haywar \n",
    "# neural network - Nariman \n",
    "# logistic regressionaccuracy_score(y_test, predictions) - Ramees \n",
    "# random forest - Ramees \n",
    "# LSM models  - Vishnu \n"
   ]
  },
  {
   "cell_type": "markdown",
   "id": "6953771f",
   "metadata": {},
   "source": [
    "Logistics Regression "
   ]
  },
  {
   "cell_type": "code",
   "execution_count": 20,
   "id": "9650de52",
   "metadata": {},
   "outputs": [
    {
     "data": {
      "text/html": [
       "<style>#sk-container-id-1 {color: black;background-color: white;}#sk-container-id-1 pre{padding: 0;}#sk-container-id-1 div.sk-toggleable {background-color: white;}#sk-container-id-1 label.sk-toggleable__label {cursor: pointer;display: block;width: 100%;margin-bottom: 0;padding: 0.3em;box-sizing: border-box;text-align: center;}#sk-container-id-1 label.sk-toggleable__label-arrow:before {content: \"▸\";float: left;margin-right: 0.25em;color: #696969;}#sk-container-id-1 label.sk-toggleable__label-arrow:hover:before {color: black;}#sk-container-id-1 div.sk-estimator:hover label.sk-toggleable__label-arrow:before {color: black;}#sk-container-id-1 div.sk-toggleable__content {max-height: 0;max-width: 0;overflow: hidden;text-align: left;background-color: #f0f8ff;}#sk-container-id-1 div.sk-toggleable__content pre {margin: 0.2em;color: black;border-radius: 0.25em;background-color: #f0f8ff;}#sk-container-id-1 input.sk-toggleable__control:checked~div.sk-toggleable__content {max-height: 200px;max-width: 100%;overflow: auto;}#sk-container-id-1 input.sk-toggleable__control:checked~label.sk-toggleable__label-arrow:before {content: \"▾\";}#sk-container-id-1 div.sk-estimator input.sk-toggleable__control:checked~label.sk-toggleable__label {background-color: #d4ebff;}#sk-container-id-1 div.sk-label input.sk-toggleable__control:checked~label.sk-toggleable__label {background-color: #d4ebff;}#sk-container-id-1 input.sk-hidden--visually {border: 0;clip: rect(1px 1px 1px 1px);clip: rect(1px, 1px, 1px, 1px);height: 1px;margin: -1px;overflow: hidden;padding: 0;position: absolute;width: 1px;}#sk-container-id-1 div.sk-estimator {font-family: monospace;background-color: #f0f8ff;border: 1px dotted black;border-radius: 0.25em;box-sizing: border-box;margin-bottom: 0.5em;}#sk-container-id-1 div.sk-estimator:hover {background-color: #d4ebff;}#sk-container-id-1 div.sk-parallel-item::after {content: \"\";width: 100%;border-bottom: 1px solid gray;flex-grow: 1;}#sk-container-id-1 div.sk-label:hover label.sk-toggleable__label {background-color: #d4ebff;}#sk-container-id-1 div.sk-serial::before {content: \"\";position: absolute;border-left: 1px solid gray;box-sizing: border-box;top: 0;bottom: 0;left: 50%;z-index: 0;}#sk-container-id-1 div.sk-serial {display: flex;flex-direction: column;align-items: center;background-color: white;padding-right: 0.2em;padding-left: 0.2em;position: relative;}#sk-container-id-1 div.sk-item {position: relative;z-index: 1;}#sk-container-id-1 div.sk-parallel {display: flex;align-items: stretch;justify-content: center;background-color: white;position: relative;}#sk-container-id-1 div.sk-item::before, #sk-container-id-1 div.sk-parallel-item::before {content: \"\";position: absolute;border-left: 1px solid gray;box-sizing: border-box;top: 0;bottom: 0;left: 50%;z-index: -1;}#sk-container-id-1 div.sk-parallel-item {display: flex;flex-direction: column;z-index: 1;position: relative;background-color: white;}#sk-container-id-1 div.sk-parallel-item:first-child::after {align-self: flex-end;width: 50%;}#sk-container-id-1 div.sk-parallel-item:last-child::after {align-self: flex-start;width: 50%;}#sk-container-id-1 div.sk-parallel-item:only-child::after {width: 0;}#sk-container-id-1 div.sk-dashed-wrapped {border: 1px dashed gray;margin: 0 0.4em 0.5em 0.4em;box-sizing: border-box;padding-bottom: 0.4em;background-color: white;}#sk-container-id-1 div.sk-label label {font-family: monospace;font-weight: bold;display: inline-block;line-height: 1.2em;}#sk-container-id-1 div.sk-label-container {text-align: center;}#sk-container-id-1 div.sk-container {/* jupyter's `normalize.less` sets `[hidden] { display: none; }` but bootstrap.min.css set `[hidden] { display: none !important; }` so we also need the `!important` here to be able to override the default hidden behavior on the sphinx rendered scikit-learn.org. See: https://github.com/scikit-learn/scikit-learn/issues/21755 */display: inline-block !important;position: relative;}#sk-container-id-1 div.sk-text-repr-fallback {display: none;}</style><div id=\"sk-container-id-1\" class=\"sk-top-container\"><div class=\"sk-text-repr-fallback\"><pre>LogisticRegression(random_state=1)</pre><b>In a Jupyter environment, please rerun this cell to show the HTML representation or trust the notebook. <br />On GitHub, the HTML representation is unable to render, please try loading this page with nbviewer.org.</b></div><div class=\"sk-container\" hidden><div class=\"sk-item\"><div class=\"sk-estimator sk-toggleable\"><input class=\"sk-toggleable__control sk-hidden--visually\" id=\"sk-estimator-id-1\" type=\"checkbox\" checked><label for=\"sk-estimator-id-1\" class=\"sk-toggleable__label sk-toggleable__label-arrow\">LogisticRegression</label><div class=\"sk-toggleable__content\"><pre>LogisticRegression(random_state=1)</pre></div></div></div></div></div>"
      ],
      "text/plain": [
       "LogisticRegression(random_state=1)"
      ]
     },
     "execution_count": 20,
     "metadata": {},
     "output_type": "execute_result"
    }
   ],
   "source": [
    "\n",
    "lg_model = LogisticRegression(random_state=1)  \n",
    "\n",
    "# Fit the model using training data\n",
    "lg_model.fit(X_train_scaled,y_train)"
   ]
  },
  {
   "cell_type": "code",
   "execution_count": 21,
   "id": "f31c7072",
   "metadata": {},
   "outputs": [],
   "source": [
    "lg_predictions = lg_model.predict(X_test_scaled)"
   ]
  },
  {
   "cell_type": "code",
   "execution_count": 22,
   "id": "02b64148",
   "metadata": {},
   "outputs": [
    {
     "data": {
      "text/plain": [
       "0.6899159663865546"
      ]
     },
     "execution_count": 22,
     "metadata": {},
     "output_type": "execute_result"
    }
   ],
   "source": [
    "accuracy_score(y_test, lg_predictions)"
   ]
  },
  {
   "cell_type": "code",
   "execution_count": 23,
   "id": "22e3859d",
   "metadata": {},
   "outputs": [
    {
     "data": {
      "text/plain": [
       "array([[630, 112],\n",
       "       [257, 191]])"
      ]
     },
     "execution_count": 23,
     "metadata": {},
     "output_type": "execute_result"
    }
   ],
   "source": [
    "confusion_matrix(y_test, lg_predictions)"
   ]
  },
  {
   "cell_type": "code",
   "execution_count": 25,
   "id": "17fa5f36",
   "metadata": {},
   "outputs": [
    {
     "name": "stdout",
     "output_type": "stream",
     "text": [
      "              precision    recall  f1-score   support\n",
      "\n",
      "           0       0.71      0.85      0.77       742\n",
      "           1       0.63      0.43      0.51       448\n",
      "\n",
      "    accuracy                           0.69      1190\n",
      "   macro avg       0.67      0.64      0.64      1190\n",
      "weighted avg       0.68      0.69      0.67      1190\n",
      "\n"
     ]
    }
   ],
   "source": [
    "print(classification_report(y_test, lg_predictions))"
   ]
  },
  {
   "cell_type": "markdown",
   "id": "0d5be953",
   "metadata": {},
   "source": []
  },
  {
   "cell_type": "markdown",
   "id": "b6684a61",
   "metadata": {},
   "source": [
    "Random Forest "
   ]
  },
  {
   "cell_type": "code",
   "execution_count": 27,
   "id": "7aff3d2f",
   "metadata": {},
   "outputs": [
    {
     "data": {
      "text/html": [
       "<style>#sk-container-id-2 {color: black;background-color: white;}#sk-container-id-2 pre{padding: 0;}#sk-container-id-2 div.sk-toggleable {background-color: white;}#sk-container-id-2 label.sk-toggleable__label {cursor: pointer;display: block;width: 100%;margin-bottom: 0;padding: 0.3em;box-sizing: border-box;text-align: center;}#sk-container-id-2 label.sk-toggleable__label-arrow:before {content: \"▸\";float: left;margin-right: 0.25em;color: #696969;}#sk-container-id-2 label.sk-toggleable__label-arrow:hover:before {color: black;}#sk-container-id-2 div.sk-estimator:hover label.sk-toggleable__label-arrow:before {color: black;}#sk-container-id-2 div.sk-toggleable__content {max-height: 0;max-width: 0;overflow: hidden;text-align: left;background-color: #f0f8ff;}#sk-container-id-2 div.sk-toggleable__content pre {margin: 0.2em;color: black;border-radius: 0.25em;background-color: #f0f8ff;}#sk-container-id-2 input.sk-toggleable__control:checked~div.sk-toggleable__content {max-height: 200px;max-width: 100%;overflow: auto;}#sk-container-id-2 input.sk-toggleable__control:checked~label.sk-toggleable__label-arrow:before {content: \"▾\";}#sk-container-id-2 div.sk-estimator input.sk-toggleable__control:checked~label.sk-toggleable__label {background-color: #d4ebff;}#sk-container-id-2 div.sk-label input.sk-toggleable__control:checked~label.sk-toggleable__label {background-color: #d4ebff;}#sk-container-id-2 input.sk-hidden--visually {border: 0;clip: rect(1px 1px 1px 1px);clip: rect(1px, 1px, 1px, 1px);height: 1px;margin: -1px;overflow: hidden;padding: 0;position: absolute;width: 1px;}#sk-container-id-2 div.sk-estimator {font-family: monospace;background-color: #f0f8ff;border: 1px dotted black;border-radius: 0.25em;box-sizing: border-box;margin-bottom: 0.5em;}#sk-container-id-2 div.sk-estimator:hover {background-color: #d4ebff;}#sk-container-id-2 div.sk-parallel-item::after {content: \"\";width: 100%;border-bottom: 1px solid gray;flex-grow: 1;}#sk-container-id-2 div.sk-label:hover label.sk-toggleable__label {background-color: #d4ebff;}#sk-container-id-2 div.sk-serial::before {content: \"\";position: absolute;border-left: 1px solid gray;box-sizing: border-box;top: 0;bottom: 0;left: 50%;z-index: 0;}#sk-container-id-2 div.sk-serial {display: flex;flex-direction: column;align-items: center;background-color: white;padding-right: 0.2em;padding-left: 0.2em;position: relative;}#sk-container-id-2 div.sk-item {position: relative;z-index: 1;}#sk-container-id-2 div.sk-parallel {display: flex;align-items: stretch;justify-content: center;background-color: white;position: relative;}#sk-container-id-2 div.sk-item::before, #sk-container-id-2 div.sk-parallel-item::before {content: \"\";position: absolute;border-left: 1px solid gray;box-sizing: border-box;top: 0;bottom: 0;left: 50%;z-index: -1;}#sk-container-id-2 div.sk-parallel-item {display: flex;flex-direction: column;z-index: 1;position: relative;background-color: white;}#sk-container-id-2 div.sk-parallel-item:first-child::after {align-self: flex-end;width: 50%;}#sk-container-id-2 div.sk-parallel-item:last-child::after {align-self: flex-start;width: 50%;}#sk-container-id-2 div.sk-parallel-item:only-child::after {width: 0;}#sk-container-id-2 div.sk-dashed-wrapped {border: 1px dashed gray;margin: 0 0.4em 0.5em 0.4em;box-sizing: border-box;padding-bottom: 0.4em;background-color: white;}#sk-container-id-2 div.sk-label label {font-family: monospace;font-weight: bold;display: inline-block;line-height: 1.2em;}#sk-container-id-2 div.sk-label-container {text-align: center;}#sk-container-id-2 div.sk-container {/* jupyter's `normalize.less` sets `[hidden] { display: none; }` but bootstrap.min.css set `[hidden] { display: none !important; }` so we also need the `!important` here to be able to override the default hidden behavior on the sphinx rendered scikit-learn.org. See: https://github.com/scikit-learn/scikit-learn/issues/21755 */display: inline-block !important;position: relative;}#sk-container-id-2 div.sk-text-repr-fallback {display: none;}</style><div id=\"sk-container-id-2\" class=\"sk-top-container\"><div class=\"sk-text-repr-fallback\"><pre>RandomForestClassifier(random_state=1)</pre><b>In a Jupyter environment, please rerun this cell to show the HTML representation or trust the notebook. <br />On GitHub, the HTML representation is unable to render, please try loading this page with nbviewer.org.</b></div><div class=\"sk-container\" hidden><div class=\"sk-item\"><div class=\"sk-estimator sk-toggleable\"><input class=\"sk-toggleable__control sk-hidden--visually\" id=\"sk-estimator-id-2\" type=\"checkbox\" checked><label for=\"sk-estimator-id-2\" class=\"sk-toggleable__label sk-toggleable__label-arrow\">RandomForestClassifier</label><div class=\"sk-toggleable__content\"><pre>RandomForestClassifier(random_state=1)</pre></div></div></div></div></div>"
      ],
      "text/plain": [
       "RandomForestClassifier(random_state=1)"
      ]
     },
     "execution_count": 27,
     "metadata": {},
     "output_type": "execute_result"
    }
   ],
   "source": [
    "rf_model = RandomForestClassifier(random_state=1)\n",
    "\n",
    "# Fit the model using training data\n",
    "rf_model.fit(X_train_scaled,y_train)"
   ]
  },
  {
   "cell_type": "code",
   "execution_count": 28,
   "id": "7b5a9da9",
   "metadata": {},
   "outputs": [],
   "source": [
    "rf_predictions = rf_model.predict(X_test_scaled)"
   ]
  },
  {
   "cell_type": "code",
   "execution_count": 29,
   "id": "3d2a4b76",
   "metadata": {},
   "outputs": [
    {
     "data": {
      "text/plain": [
       "0.8932773109243698"
      ]
     },
     "execution_count": 29,
     "metadata": {},
     "output_type": "execute_result"
    }
   ],
   "source": [
    "accuracy_score(y_test, rf_predictions)"
   ]
  },
  {
   "cell_type": "code",
   "execution_count": 30,
   "id": "1f87894e",
   "metadata": {},
   "outputs": [
    {
     "data": {
      "text/plain": [
       "array([[694,  48],\n",
       "       [ 79, 369]])"
      ]
     },
     "execution_count": 30,
     "metadata": {},
     "output_type": "execute_result"
    }
   ],
   "source": [
    "confusion_matrix(y_test, rf_predictions)"
   ]
  },
  {
   "cell_type": "code",
   "execution_count": 31,
   "id": "b0a4895c",
   "metadata": {},
   "outputs": [
    {
     "name": "stdout",
     "output_type": "stream",
     "text": [
      "              precision    recall  f1-score   support\n",
      "\n",
      "           0       0.90      0.94      0.92       742\n",
      "           1       0.88      0.82      0.85       448\n",
      "\n",
      "    accuracy                           0.89      1190\n",
      "   macro avg       0.89      0.88      0.88      1190\n",
      "weighted avg       0.89      0.89      0.89      1190\n",
      "\n"
     ]
    }
   ],
   "source": [
    "print(classification_report(y_test, rf_predictions))"
   ]
  },
  {
   "cell_type": "code",
   "execution_count": null,
   "id": "228c3383",
   "metadata": {},
   "outputs": [],
   "source": []
  }
 ],
 "metadata": {
  "kernelspec": {
   "display_name": "Python 3 (ipykernel)",
   "language": "python",
   "name": "python3"
  },
  "language_info": {
   "codemirror_mode": {
    "name": "ipython",
    "version": 3
   },
   "file_extension": ".py",
   "mimetype": "text/x-python",
   "name": "python",
   "nbconvert_exporter": "python",
   "pygments_lexer": "ipython3",
   "version": "3.10.9"
  }
 },
 "nbformat": 4,
 "nbformat_minor": 5
}
