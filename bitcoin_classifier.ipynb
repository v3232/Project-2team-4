{
 "cells": [
  {
   "cell_type": "code",
   "execution_count": 37,
   "id": "13997cd3-8c94-46e8-b7e0-c4dc3d233a86",
   "metadata": {},
   "outputs": [],
   "source": [
    "import pandas as pd\n",
    "from finta import TA\n",
    "import matplotlib.pyplot as plt\n",
    "from sklearn.metrics import accuracy_score\n",
    "from sklearn.metrics import confusion_matrix\n",
    "from sklearn.metrics import classification_report\n",
    "from sklearn.model_selection import train_test_split\n",
    "from sklearn.preprocessing import StandardScaler\n",
    "from sklearn import svm\n",
    "from sklearn.ensemble import GradientBoostingClassifier\n",
    "from sklearn.linear_model import LogisticRegression\n",
    "from sklearn.ensemble import RandomForestClassifier\n",
    "from keras.models import Sequential\n",
    "from keras.layers import Dense\n",
    "from keras.layers import LSTM\n",
    "from keras.layers import Dropout\n",
    "import numpy as np\n",
    "import tensorflow as tf\n",
    "\n",
    "import warnings\n",
    "warnings.filterwarnings('ignore')"
   ]
  },
  {
   "cell_type": "code",
   "execution_count": 2,
   "id": "250a9e80-e19d-4395-8606-866031e8780b",
   "metadata": {},
   "outputs": [
    {
     "data": {
      "text/html": [
       "<div>\n",
       "<style scoped>\n",
       "    .dataframe tbody tr th:only-of-type {\n",
       "        vertical-align: middle;\n",
       "    }\n",
       "\n",
       "    .dataframe tbody tr th {\n",
       "        vertical-align: top;\n",
       "    }\n",
       "\n",
       "    .dataframe thead th {\n",
       "        text-align: right;\n",
       "    }\n",
       "</style>\n",
       "<table border=\"1\" class=\"dataframe\">\n",
       "  <thead>\n",
       "    <tr style=\"text-align: right;\">\n",
       "      <th></th>\n",
       "      <th>Open</th>\n",
       "      <th>High</th>\n",
       "      <th>Low</th>\n",
       "      <th>Close</th>\n",
       "      <th>Volume</th>\n",
       "      <th>Market Cap</th>\n",
       "    </tr>\n",
       "    <tr>\n",
       "      <th>Start</th>\n",
       "      <th></th>\n",
       "      <th></th>\n",
       "      <th></th>\n",
       "      <th></th>\n",
       "      <th></th>\n",
       "      <th></th>\n",
       "    </tr>\n",
       "  </thead>\n",
       "  <tbody>\n",
       "    <tr>\n",
       "      <th>2010-07-24</th>\n",
       "      <td>0.0545</td>\n",
       "      <td>0.0545</td>\n",
       "      <td>0.0545</td>\n",
       "      <td>0.0545</td>\n",
       "      <td>0.000000e+00</td>\n",
       "      <td>0.000000e+00</td>\n",
       "    </tr>\n",
       "    <tr>\n",
       "      <th>2010-07-25</th>\n",
       "      <td>0.0505</td>\n",
       "      <td>0.0505</td>\n",
       "      <td>0.0505</td>\n",
       "      <td>0.0505</td>\n",
       "      <td>0.000000e+00</td>\n",
       "      <td>0.000000e+00</td>\n",
       "    </tr>\n",
       "    <tr>\n",
       "      <th>2010-07-26</th>\n",
       "      <td>0.0560</td>\n",
       "      <td>0.0560</td>\n",
       "      <td>0.0560</td>\n",
       "      <td>0.0560</td>\n",
       "      <td>0.000000e+00</td>\n",
       "      <td>0.000000e+00</td>\n",
       "    </tr>\n",
       "    <tr>\n",
       "      <th>2010-07-27</th>\n",
       "      <td>0.0600</td>\n",
       "      <td>0.0600</td>\n",
       "      <td>0.0600</td>\n",
       "      <td>0.0600</td>\n",
       "      <td>0.000000e+00</td>\n",
       "      <td>0.000000e+00</td>\n",
       "    </tr>\n",
       "    <tr>\n",
       "      <th>2010-07-28</th>\n",
       "      <td>0.0589</td>\n",
       "      <td>0.0589</td>\n",
       "      <td>0.0589</td>\n",
       "      <td>0.0589</td>\n",
       "      <td>0.000000e+00</td>\n",
       "      <td>0.000000e+00</td>\n",
       "    </tr>\n",
       "    <tr>\n",
       "      <th>...</th>\n",
       "      <td>...</td>\n",
       "      <td>...</td>\n",
       "      <td>...</td>\n",
       "      <td>...</td>\n",
       "      <td>...</td>\n",
       "      <td>...</td>\n",
       "    </tr>\n",
       "    <tr>\n",
       "      <th>2023-08-18</th>\n",
       "      <td>26659.8500</td>\n",
       "      <td>26784.2300</td>\n",
       "      <td>25721.5300</td>\n",
       "      <td>26058.2600</td>\n",
       "      <td>7.032831e+10</td>\n",
       "      <td>5.115170e+11</td>\n",
       "    </tr>\n",
       "    <tr>\n",
       "      <th>2023-08-19</th>\n",
       "      <td>26069.2300</td>\n",
       "      <td>26253.2600</td>\n",
       "      <td>25814.2500</td>\n",
       "      <td>26090.6300</td>\n",
       "      <td>4.769626e+10</td>\n",
       "      <td>5.060530e+11</td>\n",
       "    </tr>\n",
       "    <tr>\n",
       "      <th>2023-08-20</th>\n",
       "      <td>26085.1800</td>\n",
       "      <td>26267.3300</td>\n",
       "      <td>26002.0300</td>\n",
       "      <td>26180.0000</td>\n",
       "      <td>3.624048e+10</td>\n",
       "      <td>5.084380e+11</td>\n",
       "    </tr>\n",
       "    <tr>\n",
       "      <th>2023-08-21</th>\n",
       "      <td>26182.7900</td>\n",
       "      <td>26201.8600</td>\n",
       "      <td>25879.4800</td>\n",
       "      <td>26123.4500</td>\n",
       "      <td>3.897847e+10</td>\n",
       "      <td>5.073480e+11</td>\n",
       "    </tr>\n",
       "    <tr>\n",
       "      <th>2023-08-22</th>\n",
       "      <td>26134.0500</td>\n",
       "      <td>26134.0500</td>\n",
       "      <td>25593.7900</td>\n",
       "      <td>26048.0900</td>\n",
       "      <td>4.275523e+10</td>\n",
       "      <td>5.057130e+11</td>\n",
       "    </tr>\n",
       "  </tbody>\n",
       "</table>\n",
       "<p>4778 rows × 6 columns</p>\n",
       "</div>"
      ],
      "text/plain": [
       "                  Open        High         Low       Close        Volume  \\\n",
       "Start                                                                      \n",
       "2010-07-24      0.0545      0.0545      0.0545      0.0545  0.000000e+00   \n",
       "2010-07-25      0.0505      0.0505      0.0505      0.0505  0.000000e+00   \n",
       "2010-07-26      0.0560      0.0560      0.0560      0.0560  0.000000e+00   \n",
       "2010-07-27      0.0600      0.0600      0.0600      0.0600  0.000000e+00   \n",
       "2010-07-28      0.0589      0.0589      0.0589      0.0589  0.000000e+00   \n",
       "...                ...         ...         ...         ...           ...   \n",
       "2023-08-18  26659.8500  26784.2300  25721.5300  26058.2600  7.032831e+10   \n",
       "2023-08-19  26069.2300  26253.2600  25814.2500  26090.6300  4.769626e+10   \n",
       "2023-08-20  26085.1800  26267.3300  26002.0300  26180.0000  3.624048e+10   \n",
       "2023-08-21  26182.7900  26201.8600  25879.4800  26123.4500  3.897847e+10   \n",
       "2023-08-22  26134.0500  26134.0500  25593.7900  26048.0900  4.275523e+10   \n",
       "\n",
       "              Market Cap  \n",
       "Start                     \n",
       "2010-07-24  0.000000e+00  \n",
       "2010-07-25  0.000000e+00  \n",
       "2010-07-26  0.000000e+00  \n",
       "2010-07-27  0.000000e+00  \n",
       "2010-07-28  0.000000e+00  \n",
       "...                  ...  \n",
       "2023-08-18  5.115170e+11  \n",
       "2023-08-19  5.060530e+11  \n",
       "2023-08-20  5.084380e+11  \n",
       "2023-08-21  5.073480e+11  \n",
       "2023-08-22  5.057130e+11  \n",
       "\n",
       "[4778 rows x 6 columns]"
      ]
     },
     "execution_count": 2,
     "metadata": {},
     "output_type": "execute_result"
    }
   ],
   "source": [
    "df = pd.read_csv(\"./bitcoin_2010-07-24_2023-08-23.csv\")\n",
    "df['Start']=pd.to_datetime(df['Start'])\n",
    "df.set_index('Start',inplace=True)\n",
    "df.sort_index(ascending=True,inplace=True)\n",
    "df.drop('End',axis=1,inplace=True)\n",
    "df"
   ]
  },
  {
   "cell_type": "markdown",
   "id": "613665ac",
   "metadata": {},
   "source": []
  },
  {
   "cell_type": "code",
   "execution_count": 3,
   "id": "30d52bb9-e836-4910-af80-5e931933ff2d",
   "metadata": {},
   "outputs": [],
   "source": [
    "# Calculate ADX\n",
    "df['ADX'] = TA.ADX(df)\n",
    "\n",
    "# Calculate RSI\n",
    "df['RSI'] = TA.RSI(df)\n",
    "\n",
    "# Calculate Bollinger Bands\n",
    "bollinger_bands = TA.BBANDS(df)\n",
    "df['BollingerUpper'] = bollinger_bands['BB_UPPER']\n",
    "df['BollingerMiddle'] = bollinger_bands['BB_MIDDLE']\n",
    "df['BollingerLower'] = bollinger_bands['BB_LOWER']\n",
    "\n",
    "df.dropna(inplace=True)"
   ]
  },
  {
   "cell_type": "code",
   "execution_count": 4,
   "id": "542988ec-0cb9-4908-b5fe-efee638f37a8",
   "metadata": {},
   "outputs": [],
   "source": [
    "def label_market(df, criteria):\n",
    "    df['MarketLabel'] = 0\n",
    "    indices = df.index.tolist()\n",
    "    \n",
    "    for i in range(len(indices)):\n",
    "        current_index = indices[i]\n",
    "        trendy_count = 0\n",
    "        \n",
    "        if df.loc[current_index, 'ADX'] > 25:\n",
    "            trendy_count += 1\n",
    "        \n",
    "        if df.loc[current_index, 'RSI'] < 30 or df.loc[current_index, 'RSI'] > 70:\n",
    "            trendy_count += 1\n",
    "\n",
    "        if i > 0:\n",
    "            previous_index = indices[i-1]\n",
    "            current_width = df.loc[current_index, 'BollingerUpper'] - df.loc[current_index, 'BollingerLower']\n",
    "            previous_width = df.loc[previous_index, 'BollingerUpper'] - df.loc[previous_index, 'BollingerLower']\n",
    "            \n",
    "            if current_width > previous_width:\n",
    "                trendy_count += 1\n",
    "\n",
    "        if trendy_count >= criteria:\n",
    "            df.loc[current_index, 'MarketLabel'] = 1  # Trendy\n",
    "            \n",
    "    return df"
   ]
  },
  {
   "cell_type": "code",
   "execution_count": 5,
   "id": "545c76ba-fd8e-4f74-a41d-27bfa3ff18fb",
   "metadata": {},
   "outputs": [],
   "source": [
    "def plot_colored_market_trends(df):\n",
    "    fig, ax = plt.subplots()\n",
    "    prev_price = df['Close'].iloc[0]\n",
    "    prev_date = df.index[0]\n",
    "    prev_label = df['MarketLabel'].iloc[0]\n",
    "\n",
    "    for date, row in df.iterrows():\n",
    "        current_price = row['Close']\n",
    "        current_label = row['MarketLabel']\n",
    "        \n",
    "        color = 'g' if current_label == 1 else 'b'\n",
    "        \n",
    "        ax.plot([prev_date, date], [prev_price, current_price], color=color)\n",
    "        \n",
    "        prev_price = current_price\n",
    "        prev_date = date\n",
    "        prev_label = current_label\n",
    "\n",
    "    ax.set_title('BTC Prices with Market Labels')\n",
    "    ax.set_xlabel('Date')\n",
    "    ax.set_ylabel('Close Price')\n",
    "\n",
    "    plt.show()"
   ]
  },
  {
   "cell_type": "code",
   "execution_count": 6,
   "id": "6b0e01d3",
   "metadata": {},
   "outputs": [],
   "source": [
    "df.head(30)\n",
    "df=label_market(df,2)"
   ]
  },
  {
   "cell_type": "code",
   "execution_count": 7,
   "id": "7b020d6c",
   "metadata": {},
   "outputs": [
    {
     "data": {
      "text/html": [
       "<div>\n",
       "<style scoped>\n",
       "    .dataframe tbody tr th:only-of-type {\n",
       "        vertical-align: middle;\n",
       "    }\n",
       "\n",
       "    .dataframe tbody tr th {\n",
       "        vertical-align: top;\n",
       "    }\n",
       "\n",
       "    .dataframe thead th {\n",
       "        text-align: right;\n",
       "    }\n",
       "</style>\n",
       "<table border=\"1\" class=\"dataframe\">\n",
       "  <thead>\n",
       "    <tr style=\"text-align: right;\">\n",
       "      <th></th>\n",
       "      <th>Open</th>\n",
       "      <th>High</th>\n",
       "      <th>Low</th>\n",
       "      <th>Close</th>\n",
       "      <th>Volume</th>\n",
       "      <th>Market Cap</th>\n",
       "      <th>ADX</th>\n",
       "      <th>RSI</th>\n",
       "      <th>BollingerUpper</th>\n",
       "      <th>BollingerMiddle</th>\n",
       "      <th>BollingerLower</th>\n",
       "      <th>MarketLabel</th>\n",
       "    </tr>\n",
       "    <tr>\n",
       "      <th>Start</th>\n",
       "      <th></th>\n",
       "      <th></th>\n",
       "      <th></th>\n",
       "      <th></th>\n",
       "      <th></th>\n",
       "      <th></th>\n",
       "      <th></th>\n",
       "      <th></th>\n",
       "      <th></th>\n",
       "      <th></th>\n",
       "      <th></th>\n",
       "      <th></th>\n",
       "    </tr>\n",
       "  </thead>\n",
       "  <tbody>\n",
       "    <tr>\n",
       "      <th>2023-07-24</th>\n",
       "      <td>30076.96</td>\n",
       "      <td>30087.98</td>\n",
       "      <td>28945.60</td>\n",
       "      <td>29186.08</td>\n",
       "      <td>4.655449e+10</td>\n",
       "      <td>5.719480e+11</td>\n",
       "      <td>33.401285</td>\n",
       "      <td>42.331972</td>\n",
       "      <td>31055.095179</td>\n",
       "      <td>30175.7175</td>\n",
       "      <td>29296.339821</td>\n",
       "      <td>1</td>\n",
       "    </tr>\n",
       "    <tr>\n",
       "      <th>2023-07-25</th>\n",
       "      <td>29177.63</td>\n",
       "      <td>29330.03</td>\n",
       "      <td>29053.27</td>\n",
       "      <td>29242.03</td>\n",
       "      <td>4.605612e+10</td>\n",
       "      <td>5.670650e+11</td>\n",
       "      <td>31.137863</td>\n",
       "      <td>43.056460</td>\n",
       "      <td>31070.567393</td>\n",
       "      <td>30112.6730</td>\n",
       "      <td>29154.778607</td>\n",
       "      <td>1</td>\n",
       "    </tr>\n",
       "    <tr>\n",
       "      <th>2023-07-26</th>\n",
       "      <td>29217.21</td>\n",
       "      <td>29661.48</td>\n",
       "      <td>29131.02</td>\n",
       "      <td>29349.52</td>\n",
       "      <td>3.667730e+10</td>\n",
       "      <td>5.690620e+11</td>\n",
       "      <td>29.761994</td>\n",
       "      <td>44.499070</td>\n",
       "      <td>31097.440328</td>\n",
       "      <td>30081.6465</td>\n",
       "      <td>29065.852672</td>\n",
       "      <td>1</td>\n",
       "    </tr>\n",
       "    <tr>\n",
       "      <th>2023-07-27</th>\n",
       "      <td>29337.96</td>\n",
       "      <td>29555.75</td>\n",
       "      <td>29100.73</td>\n",
       "      <td>29209.65</td>\n",
       "      <td>4.036667e+10</td>\n",
       "      <td>5.705130e+11</td>\n",
       "      <td>28.393929</td>\n",
       "      <td>42.973452</td>\n",
       "      <td>31106.392501</td>\n",
       "      <td>30026.1270</td>\n",
       "      <td>28945.861499</td>\n",
       "      <td>1</td>\n",
       "    </tr>\n",
       "    <tr>\n",
       "      <th>2023-07-28</th>\n",
       "      <td>29214.02</td>\n",
       "      <td>29510.07</td>\n",
       "      <td>29126.05</td>\n",
       "      <td>29318.62</td>\n",
       "      <td>4.063137e+10</td>\n",
       "      <td>5.688140e+11</td>\n",
       "      <td>27.123582</td>\n",
       "      <td>44.567946</td>\n",
       "      <td>31096.832145</td>\n",
       "      <td>29978.6070</td>\n",
       "      <td>28860.381855</td>\n",
       "      <td>1</td>\n",
       "    </tr>\n",
       "    <tr>\n",
       "      <th>2023-07-29</th>\n",
       "      <td>29305.34</td>\n",
       "      <td>29397.16</td>\n",
       "      <td>29264.46</td>\n",
       "      <td>29356.22</td>\n",
       "      <td>3.348051e+10</td>\n",
       "      <td>5.699740e+11</td>\n",
       "      <td>25.943975</td>\n",
       "      <td>45.137957</td>\n",
       "      <td>31086.159993</td>\n",
       "      <td>29938.1935</td>\n",
       "      <td>28790.227007</td>\n",
       "      <td>1</td>\n",
       "    </tr>\n",
       "    <tr>\n",
       "      <th>2023-07-30</th>\n",
       "      <td>29355.01</td>\n",
       "      <td>29442.05</td>\n",
       "      <td>29105.61</td>\n",
       "      <td>29273.90</td>\n",
       "      <td>2.651967e+10</td>\n",
       "      <td>5.696780e+11</td>\n",
       "      <td>24.215428</td>\n",
       "      <td>44.069486</td>\n",
       "      <td>31045.124362</td>\n",
       "      <td>29881.9835</td>\n",
       "      <td>28718.842638</td>\n",
       "      <td>0</td>\n",
       "    </tr>\n",
       "    <tr>\n",
       "      <th>2023-07-31</th>\n",
       "      <td>29285.32</td>\n",
       "      <td>29496.64</td>\n",
       "      <td>29134.91</td>\n",
       "      <td>29225.93</td>\n",
       "      <td>3.449781e+10</td>\n",
       "      <td>5.703100e+11</td>\n",
       "      <td>22.820956</td>\n",
       "      <td>43.424421</td>\n",
       "      <td>30955.816105</td>\n",
       "      <td>29812.2020</td>\n",
       "      <td>28668.587895</td>\n",
       "      <td>0</td>\n",
       "    </tr>\n",
       "    <tr>\n",
       "      <th>2023-08-01</th>\n",
       "      <td>29226.01</td>\n",
       "      <td>29629.24</td>\n",
       "      <td>28778.21</td>\n",
       "      <td>29629.24</td>\n",
       "      <td>4.149923e+10</td>\n",
       "      <td>5.642470e+11</td>\n",
       "      <td>22.108071</td>\n",
       "      <td>50.045036</td>\n",
       "      <td>30888.073966</td>\n",
       "      <td>29774.4715</td>\n",
       "      <td>28660.869034</td>\n",
       "      <td>0</td>\n",
       "    </tr>\n",
       "    <tr>\n",
       "      <th>2023-08-02</th>\n",
       "      <td>29760.35</td>\n",
       "      <td>29989.70</td>\n",
       "      <td>29011.99</td>\n",
       "      <td>29151.70</td>\n",
       "      <td>5.783702e+10</td>\n",
       "      <td>5.725100e+11</td>\n",
       "      <td>20.764984</td>\n",
       "      <td>43.546988</td>\n",
       "      <td>30483.097789</td>\n",
       "      <td>29659.7415</td>\n",
       "      <td>28836.385211</td>\n",
       "      <td>0</td>\n",
       "    </tr>\n",
       "    <tr>\n",
       "      <th>2023-08-03</th>\n",
       "      <td>29167.71</td>\n",
       "      <td>29398.24</td>\n",
       "      <td>29016.20</td>\n",
       "      <td>29198.33</td>\n",
       "      <td>4.924997e+10</td>\n",
       "      <td>5.676200e+11</td>\n",
       "      <td>19.517832</td>\n",
       "      <td>44.307419</td>\n",
       "      <td>30393.044452</td>\n",
       "      <td>29604.3755</td>\n",
       "      <td>28815.706548</td>\n",
       "      <td>0</td>\n",
       "    </tr>\n",
       "    <tr>\n",
       "      <th>2023-08-04</th>\n",
       "      <td>29215.74</td>\n",
       "      <td>29309.66</td>\n",
       "      <td>28926.04</td>\n",
       "      <td>29113.38</td>\n",
       "      <td>4.312276e+10</td>\n",
       "      <td>5.671340e+11</td>\n",
       "      <td>18.192248</td>\n",
       "      <td>43.166635</td>\n",
       "      <td>30297.031848</td>\n",
       "      <td>29546.2605</td>\n",
       "      <td>28795.489152</td>\n",
       "      <td>0</td>\n",
       "    </tr>\n",
       "    <tr>\n",
       "      <th>2023-08-05</th>\n",
       "      <td>29118.39</td>\n",
       "      <td>29142.06</td>\n",
       "      <td>28987.39</td>\n",
       "      <td>29074.55</td>\n",
       "      <td>3.789786e+10</td>\n",
       "      <td>5.650420e+11</td>\n",
       "      <td>16.961348</td>\n",
       "      <td>42.626386</td>\n",
       "      <td>30196.605433</td>\n",
       "      <td>29488.9345</td>\n",
       "      <td>28781.263567</td>\n",
       "      <td>0</td>\n",
       "    </tr>\n",
       "    <tr>\n",
       "      <th>2023-08-06</th>\n",
       "      <td>29065.05</td>\n",
       "      <td>29199.94</td>\n",
       "      <td>28980.12</td>\n",
       "      <td>29086.65</td>\n",
       "      <td>3.873889e+10</td>\n",
       "      <td>5.652190e+11</td>\n",
       "      <td>15.911773</td>\n",
       "      <td>42.866347</td>\n",
       "      <td>30089.997194</td>\n",
       "      <td>29435.3665</td>\n",
       "      <td>28780.735806</td>\n",
       "      <td>0</td>\n",
       "    </tr>\n",
       "    <tr>\n",
       "      <th>2023-08-07</th>\n",
       "      <td>29088.91</td>\n",
       "      <td>29276.77</td>\n",
       "      <td>28781.80</td>\n",
       "      <td>29206.01</td>\n",
       "      <td>3.970510e+10</td>\n",
       "      <td>5.656110e+11</td>\n",
       "      <td>15.458185</td>\n",
       "      <td>45.296864</td>\n",
       "      <td>30035.773376</td>\n",
       "      <td>29403.3935</td>\n",
       "      <td>28771.013624</td>\n",
       "      <td>0</td>\n",
       "    </tr>\n",
       "    <tr>\n",
       "      <th>2023-08-08</th>\n",
       "      <td>29214.05</td>\n",
       "      <td>30127.05</td>\n",
       "      <td>29128.81</td>\n",
       "      <td>29766.72</td>\n",
       "      <td>4.631264e+10</td>\n",
       "      <td>5.728730e+11</td>\n",
       "      <td>16.195634</td>\n",
       "      <td>54.984778</td>\n",
       "      <td>30002.106100</td>\n",
       "      <td>29395.1015</td>\n",
       "      <td>28788.096900</td>\n",
       "      <td>0</td>\n",
       "    </tr>\n",
       "    <tr>\n",
       "      <th>2023-08-09</th>\n",
       "      <td>29814.01</td>\n",
       "      <td>30071.63</td>\n",
       "      <td>29414.98</td>\n",
       "      <td>29596.90</td>\n",
       "      <td>4.782358e+10</td>\n",
       "      <td>5.777770e+11</td>\n",
       "      <td>16.880407</td>\n",
       "      <td>51.982111</td>\n",
       "      <td>29970.447993</td>\n",
       "      <td>29385.1040</td>\n",
       "      <td>28799.760007</td>\n",
       "      <td>0</td>\n",
       "    </tr>\n",
       "    <tr>\n",
       "      <th>2023-08-10</th>\n",
       "      <td>29576.05</td>\n",
       "      <td>29709.96</td>\n",
       "      <td>29379.58</td>\n",
       "      <td>29455.74</td>\n",
       "      <td>4.273790e+10</td>\n",
       "      <td>5.738720e+11</td>\n",
       "      <td>17.378500</td>\n",
       "      <td>49.559418</td>\n",
       "      <td>29895.393843</td>\n",
       "      <td>29362.4950</td>\n",
       "      <td>28829.596157</td>\n",
       "      <td>0</td>\n",
       "    </tr>\n",
       "    <tr>\n",
       "      <th>2023-08-11</th>\n",
       "      <td>29452.84</td>\n",
       "      <td>29542.01</td>\n",
       "      <td>29291.04</td>\n",
       "      <td>29426.01</td>\n",
       "      <td>3.506714e+10</td>\n",
       "      <td>5.719130e+11</td>\n",
       "      <td>17.483258</td>\n",
       "      <td>49.041010</td>\n",
       "      <td>29848.845833</td>\n",
       "      <td>29346.3965</td>\n",
       "      <td>28843.947167</td>\n",
       "      <td>0</td>\n",
       "    </tr>\n",
       "    <tr>\n",
       "      <th>2023-08-12</th>\n",
       "      <td>29420.67</td>\n",
       "      <td>29475.29</td>\n",
       "      <td>29353.95</td>\n",
       "      <td>29430.07</td>\n",
       "      <td>3.042901e+10</td>\n",
       "      <td>5.720210e+11</td>\n",
       "      <td>17.580533</td>\n",
       "      <td>49.119283</td>\n",
       "      <td>29692.103257</td>\n",
       "      <td>29314.8625</td>\n",
       "      <td>28937.621743</td>\n",
       "      <td>0</td>\n",
       "    </tr>\n",
       "    <tr>\n",
       "      <th>2023-08-13</th>\n",
       "      <td>29430.17</td>\n",
       "      <td>29466.51</td>\n",
       "      <td>29281.72</td>\n",
       "      <td>29285.11</td>\n",
       "      <td>3.016975e+10</td>\n",
       "      <td>5.715280e+11</td>\n",
       "      <td>17.350328</td>\n",
       "      <td>46.380033</td>\n",
       "      <td>29692.509792</td>\n",
       "      <td>29319.8140</td>\n",
       "      <td>28947.118208</td>\n",
       "      <td>0</td>\n",
       "    </tr>\n",
       "    <tr>\n",
       "      <th>2023-08-14</th>\n",
       "      <td>29295.94</td>\n",
       "      <td>29686.03</td>\n",
       "      <td>29162.07</td>\n",
       "      <td>29430.95</td>\n",
       "      <td>3.891852e+10</td>\n",
       "      <td>5.718400e+11</td>\n",
       "      <td>17.794491</td>\n",
       "      <td>49.435241</td>\n",
       "      <td>29703.229194</td>\n",
       "      <td>29329.2600</td>\n",
       "      <td>28955.290806</td>\n",
       "      <td>0</td>\n",
       "    </tr>\n",
       "    <tr>\n",
       "      <th>2023-08-15</th>\n",
       "      <td>29421.04</td>\n",
       "      <td>29454.28</td>\n",
       "      <td>29121.17</td>\n",
       "      <td>29200.80</td>\n",
       "      <td>4.336251e+10</td>\n",
       "      <td>5.705720e+11</td>\n",
       "      <td>18.004787</td>\n",
       "      <td>45.070801</td>\n",
       "      <td>29699.987755</td>\n",
       "      <td>29321.8240</td>\n",
       "      <td>28943.660245</td>\n",
       "      <td>0</td>\n",
       "    </tr>\n",
       "    <tr>\n",
       "      <th>2023-08-16</th>\n",
       "      <td>29201.98</td>\n",
       "      <td>29257.43</td>\n",
       "      <td>28736.49</td>\n",
       "      <td>28736.49</td>\n",
       "      <td>3.955869e+10</td>\n",
       "      <td>5.663360e+11</td>\n",
       "      <td>16.968000</td>\n",
       "      <td>37.817069</td>\n",
       "      <td>29756.567350</td>\n",
       "      <td>29298.1660</td>\n",
       "      <td>28839.764650</td>\n",
       "      <td>0</td>\n",
       "    </tr>\n",
       "    <tr>\n",
       "      <th>2023-08-17</th>\n",
       "      <td>28764.02</td>\n",
       "      <td>28768.44</td>\n",
       "      <td>25458.37</td>\n",
       "      <td>26610.04</td>\n",
       "      <td>4.828604e+10</td>\n",
       "      <td>5.483480e+11</td>\n",
       "      <td>19.773882</td>\n",
       "      <td>21.082379</td>\n",
       "      <td>30448.849771</td>\n",
       "      <td>29162.7370</td>\n",
       "      <td>27876.624229</td>\n",
       "      <td>1</td>\n",
       "    </tr>\n",
       "    <tr>\n",
       "      <th>2023-08-18</th>\n",
       "      <td>26659.85</td>\n",
       "      <td>26784.23</td>\n",
       "      <td>25721.53</td>\n",
       "      <td>26058.26</td>\n",
       "      <td>7.032831e+10</td>\n",
       "      <td>5.115170e+11</td>\n",
       "      <td>22.379344</td>\n",
       "      <td>18.762259</td>\n",
       "      <td>30884.826214</td>\n",
       "      <td>28997.8390</td>\n",
       "      <td>27110.851786</td>\n",
       "      <td>1</td>\n",
       "    </tr>\n",
       "    <tr>\n",
       "      <th>2023-08-19</th>\n",
       "      <td>26069.23</td>\n",
       "      <td>26253.26</td>\n",
       "      <td>25814.25</td>\n",
       "      <td>26090.63</td>\n",
       "      <td>4.769626e+10</td>\n",
       "      <td>5.060530e+11</td>\n",
       "      <td>24.798701</td>\n",
       "      <td>19.323179</td>\n",
       "      <td>31122.827659</td>\n",
       "      <td>28838.6755</td>\n",
       "      <td>26554.523341</td>\n",
       "      <td>1</td>\n",
       "    </tr>\n",
       "    <tr>\n",
       "      <th>2023-08-20</th>\n",
       "      <td>26085.18</td>\n",
       "      <td>26267.33</td>\n",
       "      <td>26002.03</td>\n",
       "      <td>26180.00</td>\n",
       "      <td>3.624048e+10</td>\n",
       "      <td>5.084380e+11</td>\n",
       "      <td>27.016092</td>\n",
       "      <td>20.946111</td>\n",
       "      <td>31250.796346</td>\n",
       "      <td>28686.3790</td>\n",
       "      <td>26121.961654</td>\n",
       "      <td>1</td>\n",
       "    </tr>\n",
       "    <tr>\n",
       "      <th>2023-08-21</th>\n",
       "      <td>26182.79</td>\n",
       "      <td>26201.86</td>\n",
       "      <td>25879.48</td>\n",
       "      <td>26123.45</td>\n",
       "      <td>3.897847e+10</td>\n",
       "      <td>5.073480e+11</td>\n",
       "      <td>29.151899</td>\n",
       "      <td>20.662862</td>\n",
       "      <td>31275.609542</td>\n",
       "      <td>28511.0895</td>\n",
       "      <td>25746.569458</td>\n",
       "      <td>1</td>\n",
       "    </tr>\n",
       "    <tr>\n",
       "      <th>2023-08-22</th>\n",
       "      <td>26134.05</td>\n",
       "      <td>26134.05</td>\n",
       "      <td>25593.79</td>\n",
       "      <td>26048.09</td>\n",
       "      <td>4.275523e+10</td>\n",
       "      <td>5.057130e+11</td>\n",
       "      <td>31.321038</td>\n",
       "      <td>20.269494</td>\n",
       "      <td>31310.889720</td>\n",
       "      <td>28355.9090</td>\n",
       "      <td>25400.928280</td>\n",
       "      <td>1</td>\n",
       "    </tr>\n",
       "  </tbody>\n",
       "</table>\n",
       "</div>"
      ],
      "text/plain": [
       "                Open      High       Low     Close        Volume  \\\n",
       "Start                                                              \n",
       "2023-07-24  30076.96  30087.98  28945.60  29186.08  4.655449e+10   \n",
       "2023-07-25  29177.63  29330.03  29053.27  29242.03  4.605612e+10   \n",
       "2023-07-26  29217.21  29661.48  29131.02  29349.52  3.667730e+10   \n",
       "2023-07-27  29337.96  29555.75  29100.73  29209.65  4.036667e+10   \n",
       "2023-07-28  29214.02  29510.07  29126.05  29318.62  4.063137e+10   \n",
       "2023-07-29  29305.34  29397.16  29264.46  29356.22  3.348051e+10   \n",
       "2023-07-30  29355.01  29442.05  29105.61  29273.90  2.651967e+10   \n",
       "2023-07-31  29285.32  29496.64  29134.91  29225.93  3.449781e+10   \n",
       "2023-08-01  29226.01  29629.24  28778.21  29629.24  4.149923e+10   \n",
       "2023-08-02  29760.35  29989.70  29011.99  29151.70  5.783702e+10   \n",
       "2023-08-03  29167.71  29398.24  29016.20  29198.33  4.924997e+10   \n",
       "2023-08-04  29215.74  29309.66  28926.04  29113.38  4.312276e+10   \n",
       "2023-08-05  29118.39  29142.06  28987.39  29074.55  3.789786e+10   \n",
       "2023-08-06  29065.05  29199.94  28980.12  29086.65  3.873889e+10   \n",
       "2023-08-07  29088.91  29276.77  28781.80  29206.01  3.970510e+10   \n",
       "2023-08-08  29214.05  30127.05  29128.81  29766.72  4.631264e+10   \n",
       "2023-08-09  29814.01  30071.63  29414.98  29596.90  4.782358e+10   \n",
       "2023-08-10  29576.05  29709.96  29379.58  29455.74  4.273790e+10   \n",
       "2023-08-11  29452.84  29542.01  29291.04  29426.01  3.506714e+10   \n",
       "2023-08-12  29420.67  29475.29  29353.95  29430.07  3.042901e+10   \n",
       "2023-08-13  29430.17  29466.51  29281.72  29285.11  3.016975e+10   \n",
       "2023-08-14  29295.94  29686.03  29162.07  29430.95  3.891852e+10   \n",
       "2023-08-15  29421.04  29454.28  29121.17  29200.80  4.336251e+10   \n",
       "2023-08-16  29201.98  29257.43  28736.49  28736.49  3.955869e+10   \n",
       "2023-08-17  28764.02  28768.44  25458.37  26610.04  4.828604e+10   \n",
       "2023-08-18  26659.85  26784.23  25721.53  26058.26  7.032831e+10   \n",
       "2023-08-19  26069.23  26253.26  25814.25  26090.63  4.769626e+10   \n",
       "2023-08-20  26085.18  26267.33  26002.03  26180.00  3.624048e+10   \n",
       "2023-08-21  26182.79  26201.86  25879.48  26123.45  3.897847e+10   \n",
       "2023-08-22  26134.05  26134.05  25593.79  26048.09  4.275523e+10   \n",
       "\n",
       "              Market Cap        ADX        RSI  BollingerUpper  \\\n",
       "Start                                                            \n",
       "2023-07-24  5.719480e+11  33.401285  42.331972    31055.095179   \n",
       "2023-07-25  5.670650e+11  31.137863  43.056460    31070.567393   \n",
       "2023-07-26  5.690620e+11  29.761994  44.499070    31097.440328   \n",
       "2023-07-27  5.705130e+11  28.393929  42.973452    31106.392501   \n",
       "2023-07-28  5.688140e+11  27.123582  44.567946    31096.832145   \n",
       "2023-07-29  5.699740e+11  25.943975  45.137957    31086.159993   \n",
       "2023-07-30  5.696780e+11  24.215428  44.069486    31045.124362   \n",
       "2023-07-31  5.703100e+11  22.820956  43.424421    30955.816105   \n",
       "2023-08-01  5.642470e+11  22.108071  50.045036    30888.073966   \n",
       "2023-08-02  5.725100e+11  20.764984  43.546988    30483.097789   \n",
       "2023-08-03  5.676200e+11  19.517832  44.307419    30393.044452   \n",
       "2023-08-04  5.671340e+11  18.192248  43.166635    30297.031848   \n",
       "2023-08-05  5.650420e+11  16.961348  42.626386    30196.605433   \n",
       "2023-08-06  5.652190e+11  15.911773  42.866347    30089.997194   \n",
       "2023-08-07  5.656110e+11  15.458185  45.296864    30035.773376   \n",
       "2023-08-08  5.728730e+11  16.195634  54.984778    30002.106100   \n",
       "2023-08-09  5.777770e+11  16.880407  51.982111    29970.447993   \n",
       "2023-08-10  5.738720e+11  17.378500  49.559418    29895.393843   \n",
       "2023-08-11  5.719130e+11  17.483258  49.041010    29848.845833   \n",
       "2023-08-12  5.720210e+11  17.580533  49.119283    29692.103257   \n",
       "2023-08-13  5.715280e+11  17.350328  46.380033    29692.509792   \n",
       "2023-08-14  5.718400e+11  17.794491  49.435241    29703.229194   \n",
       "2023-08-15  5.705720e+11  18.004787  45.070801    29699.987755   \n",
       "2023-08-16  5.663360e+11  16.968000  37.817069    29756.567350   \n",
       "2023-08-17  5.483480e+11  19.773882  21.082379    30448.849771   \n",
       "2023-08-18  5.115170e+11  22.379344  18.762259    30884.826214   \n",
       "2023-08-19  5.060530e+11  24.798701  19.323179    31122.827659   \n",
       "2023-08-20  5.084380e+11  27.016092  20.946111    31250.796346   \n",
       "2023-08-21  5.073480e+11  29.151899  20.662862    31275.609542   \n",
       "2023-08-22  5.057130e+11  31.321038  20.269494    31310.889720   \n",
       "\n",
       "            BollingerMiddle  BollingerLower  MarketLabel  \n",
       "Start                                                     \n",
       "2023-07-24       30175.7175    29296.339821            1  \n",
       "2023-07-25       30112.6730    29154.778607            1  \n",
       "2023-07-26       30081.6465    29065.852672            1  \n",
       "2023-07-27       30026.1270    28945.861499            1  \n",
       "2023-07-28       29978.6070    28860.381855            1  \n",
       "2023-07-29       29938.1935    28790.227007            1  \n",
       "2023-07-30       29881.9835    28718.842638            0  \n",
       "2023-07-31       29812.2020    28668.587895            0  \n",
       "2023-08-01       29774.4715    28660.869034            0  \n",
       "2023-08-02       29659.7415    28836.385211            0  \n",
       "2023-08-03       29604.3755    28815.706548            0  \n",
       "2023-08-04       29546.2605    28795.489152            0  \n",
       "2023-08-05       29488.9345    28781.263567            0  \n",
       "2023-08-06       29435.3665    28780.735806            0  \n",
       "2023-08-07       29403.3935    28771.013624            0  \n",
       "2023-08-08       29395.1015    28788.096900            0  \n",
       "2023-08-09       29385.1040    28799.760007            0  \n",
       "2023-08-10       29362.4950    28829.596157            0  \n",
       "2023-08-11       29346.3965    28843.947167            0  \n",
       "2023-08-12       29314.8625    28937.621743            0  \n",
       "2023-08-13       29319.8140    28947.118208            0  \n",
       "2023-08-14       29329.2600    28955.290806            0  \n",
       "2023-08-15       29321.8240    28943.660245            0  \n",
       "2023-08-16       29298.1660    28839.764650            0  \n",
       "2023-08-17       29162.7370    27876.624229            1  \n",
       "2023-08-18       28997.8390    27110.851786            1  \n",
       "2023-08-19       28838.6755    26554.523341            1  \n",
       "2023-08-20       28686.3790    26121.961654            1  \n",
       "2023-08-21       28511.0895    25746.569458            1  \n",
       "2023-08-22       28355.9090    25400.928280            1  "
      ]
     },
     "execution_count": 7,
     "metadata": {},
     "output_type": "execute_result"
    }
   ],
   "source": [
    "df.tail(30)"
   ]
  },
  {
   "cell_type": "code",
   "execution_count": 8,
   "id": "0e061e96",
   "metadata": {},
   "outputs": [
    {
     "data": {
      "image/png": "[encoded data removed]",
      "text/plain": [
       "<Figure size 640x480 with 1 Axes>"
      ]
     },
     "metadata": {},
     "output_type": "display_data"
    }
   ],
   "source": [
    "plot_colored_market_trends(df)"
   ]
  },
  {
   "cell_type": "code",
   "execution_count": 9,
   "id": "18080680",
   "metadata": {},
   "outputs": [
    {
     "data": {
      "text/plain": [
       "0    2922\n",
       "1    1837\n",
       "Name: MarketLabel, dtype: int64"
      ]
     },
     "execution_count": 9,
     "metadata": {},
     "output_type": "execute_result"
    }
   ],
   "source": [
    "df['MarketLabel'].value_counts()"
   ]
  },
  {
   "cell_type": "code",
   "execution_count": 10,
   "id": "3f1a7b38",
   "metadata": {},
   "outputs": [],
   "source": [
    "X = df.drop(columns=[\"MarketLabel\"])\n",
    "y = df[\"MarketLabel\"]"
   ]
  },
  {
   "cell_type": "code",
   "execution_count": 11,
   "id": "80e3697a",
   "metadata": {},
   "outputs": [],
   "source": [
    "# Split the data using train_test_split\n",
    "# Assign a random_state of 1 to the function\n",
    "X_train, X_test, y_train, y_test = train_test_split(X,y,random_state=1)"
   ]
  },
  {
   "cell_type": "code",
   "execution_count": 12,
   "id": "92c05a80",
   "metadata": {},
   "outputs": [],
   "source": [
    "# Create a StandardScaler instance\n",
    "scaler = StandardScaler()\n",
    "\n",
    "# Fit the scaler to the features training dataset\n",
    "X_scaler = scaler.fit(X_train)\n",
    "\n",
    "# Fit the scaler to the features training dataset\n",
    "X_train_scaled = X_scaler.transform(X_train)\n",
    "X_test_scaled = X_scaler.transform(X_test)"
   ]
  },
  {
   "cell_type": "markdown",
   "id": "0ffb7626",
   "metadata": {},
   "source": [
    "## SVM Model "
   ]
  },
  {
   "cell_type": "code",
   "execution_count": 13,
   "id": "bd3f5d43",
   "metadata": {},
   "outputs": [
    {
     "name": "stdout",
     "output_type": "stream",
     "text": [
      "[0 0 0 ... 0 0 1]\n"
     ]
    }
   ],
   "source": [
    "# From SVM, instantiate SVC classifier model instance\n",
    "svm_model = svm.SVC()\n",
    "\n",
    "# Fit the model to the data using the training data\n",
    "svm_model = svm_model.fit(X_train_scaled, y_train)\n",
    " \n",
    "# Use the testing data to make the model predictions\n",
    "svm_pred = svm_model.predict(X_test_scaled)\n",
    "\n",
    "# Review the model's predicted values\n",
    "print(svm_pred)"
   ]
  },
  {
   "cell_type": "code",
   "execution_count": 14,
   "id": "c5de33ae",
   "metadata": {},
   "outputs": [
    {
     "data": {
      "text/plain": [
       "0.8327731092436975"
      ]
     },
     "execution_count": 14,
     "metadata": {},
     "output_type": "execute_result"
    }
   ],
   "source": [
    "accuracy_score(y_test, svm_pred)"
   ]
  },
  {
   "cell_type": "code",
   "execution_count": 15,
   "id": "78fe0977",
   "metadata": {},
   "outputs": [
    {
     "data": {
      "text/plain": [
       "array([[712,  30],\n",
       "       [169, 279]], dtype=int64)"
      ]
     },
     "execution_count": 15,
     "metadata": {},
     "output_type": "execute_result"
    }
   ],
   "source": [
    "# Generate a confusion matrix for the model\n",
    "\n",
    "confusion_matrix(y_test, svm_pred)"
   ]
  },
  {
   "cell_type": "code",
   "execution_count": 16,
   "id": "28ce90c3",
   "metadata": {},
   "outputs": [
    {
     "name": "stdout",
     "output_type": "stream",
     "text": [
      "              precision    recall  f1-score   support\n",
      "\n",
      "           0       0.81      0.96      0.88       742\n",
      "           1       0.90      0.62      0.74       448\n",
      "\n",
      "    accuracy                           0.83      1190\n",
      "   macro avg       0.86      0.79      0.81      1190\n",
      "weighted avg       0.84      0.83      0.82      1190\n",
      "\n"
     ]
    }
   ],
   "source": [
    "print(classification_report(y_test, svm_pred))"
   ]
  },
  {
   "cell_type": "code",
   "execution_count": 17,
   "id": "99f02bd3",
   "metadata": {},
   "outputs": [],
   "source": [
    "# gradient bosting - Haywar \n",
    "# neural network - Nariman \n",
    "# logistic regressionaccuracy_score(y_test, predictions) - Ramees \n",
    "# random forest - Ramees \n",
    "# LSM models  - Vishnu \n"
   ]
  },
  {
   "cell_type": "markdown",
   "id": "11d37c0e-88c5-4554-abfb-99f61507d0e4",
   "metadata": {},
   "source": [
    "# GB Model "
   ]
  },
  {
   "cell_type": "code",
   "execution_count": 18,
   "id": "9650de52",
   "metadata": {},
   "outputs": [
    {
     "name": "stdout",
     "output_type": "stream",
     "text": [
      "Classification Report:\n",
      "              precision    recall  f1-score   support\n",
      "\n",
      "           0       0.85      0.95      0.90       742\n",
      "           1       0.90      0.72      0.80       448\n",
      "\n",
      "    accuracy                           0.86      1190\n",
      "   macro avg       0.87      0.83      0.85      1190\n",
      "weighted avg       0.87      0.86      0.86      1190\n",
      "\n"
     ]
    }
   ],
   "source": [
    "# Initialize Gradient Boosting Classifier\n",
    "gb_clf = GradientBoostingClassifier(n_estimators=100, learning_rate=0.1, max_depth=3, random_state=42)\n",
    "\n",
    "# Fit the model\n",
    "gb_clf.fit(X_train_scaled, y_train)\n",
    "\n",
    "# Predict the labels\n",
    "y_pred = gb_clf.predict(X_test_scaled)\n",
    "\n",
    "# Generate a classification report\n",
    "print(\"Classification Report:\")\n",
    "print(classification_report(y_test, y_pred))"
   ]
  },
  {
   "cell_type": "code",
   "execution_count": 19,
   "id": "06a335bd-b131-4b9d-b6f8-caec67f51bdd",
   "metadata": {},
   "outputs": [
    {
     "data": {
      "image/png": "[encoded data removed]",
      "text/plain": [
       "<Figure size 640x480 with 1 Axes>"
      ]
     },
     "metadata": {},
     "output_type": "display_data"
    }
   ],
   "source": [
    "filtered_df = df['2019-01-01':'2019-12-31']\n",
    "plot_colored_market_trends(filtered_df)"
   ]
  },
  {
   "cell_type": "markdown",
   "id": "5a21dfa8-49fc-4d60-80f0-933328580180",
   "metadata": {},
   "source": [
    "## Logistics Regression"
   ]
  },
  {
   "cell_type": "code",
   "execution_count": 20,
   "id": "0bb51c6d-4e43-4d96-913a-1a2b95d943b2",
   "metadata": {},
   "outputs": [
    {
     "data": {
      "text/html": [
       "<style>#sk-container-id-1 {color: black;}#sk-container-id-1 pre{padding: 0;}#sk-container-id-1 div.sk-toggleable {background-color: white;}#sk-container-id-1 label.sk-toggleable__label {cursor: pointer;display: block;width: 100%;margin-bottom: 0;padding: 0.3em;box-sizing: border-box;text-align: center;}#sk-container-id-1 label.sk-toggleable__label-arrow:before {content: \"▸\";float: left;margin-right: 0.25em;color: #696969;}#sk-container-id-1 label.sk-toggleable__label-arrow:hover:before {color: black;}#sk-container-id-1 div.sk-estimator:hover label.sk-toggleable__label-arrow:before {color: black;}#sk-container-id-1 div.sk-toggleable__content {max-height: 0;max-width: 0;overflow: hidden;text-align: left;background-color: #f0f8ff;}#sk-container-id-1 div.sk-toggleable__content pre {margin: 0.2em;color: black;border-radius: 0.25em;background-color: #f0f8ff;}#sk-container-id-1 input.sk-toggleable__control:checked~div.sk-toggleable__content {max-height: 200px;max-width: 100%;overflow: auto;}#sk-container-id-1 input.sk-toggleable__control:checked~label.sk-toggleable__label-arrow:before {content: \"▾\";}#sk-container-id-1 div.sk-estimator input.sk-toggleable__control:checked~label.sk-toggleable__label {background-color: #d4ebff;}#sk-container-id-1 div.sk-label input.sk-toggleable__control:checked~label.sk-toggleable__label {background-color: #d4ebff;}#sk-container-id-1 input.sk-hidden--visually {border: 0;clip: rect(1px 1px 1px 1px);clip: rect(1px, 1px, 1px, 1px);height: 1px;margin: -1px;overflow: hidden;padding: 0;position: absolute;width: 1px;}#sk-container-id-1 div.sk-estimator {font-family: monospace;background-color: #f0f8ff;border: 1px dotted black;border-radius: 0.25em;box-sizing: border-box;margin-bottom: 0.5em;}#sk-container-id-1 div.sk-estimator:hover {background-color: #d4ebff;}#sk-container-id-1 div.sk-parallel-item::after {content: \"\";width: 100%;border-bottom: 1px solid gray;flex-grow: 1;}#sk-container-id-1 div.sk-label:hover label.sk-toggleable__label {background-color: #d4ebff;}#sk-container-id-1 div.sk-serial::before {content: \"\";position: absolute;border-left: 1px solid gray;box-sizing: border-box;top: 0;bottom: 0;left: 50%;z-index: 0;}#sk-container-id-1 div.sk-serial {display: flex;flex-direction: column;align-items: center;background-color: white;padding-right: 0.2em;padding-left: 0.2em;position: relative;}#sk-container-id-1 div.sk-item {position: relative;z-index: 1;}#sk-container-id-1 div.sk-parallel {display: flex;align-items: stretch;justify-content: center;background-color: white;position: relative;}#sk-container-id-1 div.sk-item::before, #sk-container-id-1 div.sk-parallel-item::before {content: \"\";position: absolute;border-left: 1px solid gray;box-sizing: border-box;top: 0;bottom: 0;left: 50%;z-index: -1;}#sk-container-id-1 div.sk-parallel-item {display: flex;flex-direction: column;z-index: 1;position: relative;background-color: white;}#sk-container-id-1 div.sk-parallel-item:first-child::after {align-self: flex-end;width: 50%;}#sk-container-id-1 div.sk-parallel-item:last-child::after {align-self: flex-start;width: 50%;}#sk-container-id-1 div.sk-parallel-item:only-child::after {width: 0;}#sk-container-id-1 div.sk-dashed-wrapped {border: 1px dashed gray;margin: 0 0.4em 0.5em 0.4em;box-sizing: border-box;padding-bottom: 0.4em;background-color: white;}#sk-container-id-1 div.sk-label label {font-family: monospace;font-weight: bold;display: inline-block;line-height: 1.2em;}#sk-container-id-1 div.sk-label-container {text-align: center;}#sk-container-id-1 div.sk-container {/* jupyter's `normalize.less` sets `[hidden] { display: none; }` but bootstrap.min.css set `[hidden] { display: none !important; }` so we also need the `!important` here to be able to override the default hidden behavior on the sphinx rendered scikit-learn.org. See: https://github.com/scikit-learn/scikit-learn/issues/21755 */display: inline-block !important;position: relative;}#sk-container-id-1 div.sk-text-repr-fallback {display: none;}</style><div id=\"sk-container-id-1\" class=\"sk-top-container\"><div class=\"sk-text-repr-fallback\"><pre>LogisticRegression(random_state=1)</pre><b>In a Jupyter environment, please rerun this cell to show the HTML representation or trust the notebook. <br />On GitHub, the HTML representation is unable to render, please try loading this page with nbviewer.org.</b></div><div class=\"sk-container\" hidden><div class=\"sk-item\"><div class=\"sk-estimator sk-toggleable\"><input class=\"sk-toggleable__control sk-hidden--visually\" id=\"sk-estimator-id-1\" type=\"checkbox\" checked><label for=\"sk-estimator-id-1\" class=\"sk-toggleable__label sk-toggleable__label-arrow\">LogisticRegression</label><div class=\"sk-toggleable__content\"><pre>LogisticRegression(random_state=1)</pre></div></div></div></div></div>"
      ],
      "text/plain": [
       "LogisticRegression(random_state=1)"
      ]
     },
     "execution_count": 20,
     "metadata": {},
     "output_type": "execute_result"
    }
   ],
   "source": [
    "\n",
    "lg_model = LogisticRegression(random_state=1)  \n",
    "\n",
    "# Fit the model using training data\n",
    "lg_model.fit(X_train_scaled,y_train)"
   ]
  },
  {
   "cell_type": "code",
   "execution_count": 21,
   "id": "b6581521-b773-40ff-a4f0-559a2230d75c",
   "metadata": {},
   "outputs": [],
   "source": [
    "lg_predictions = lg_model.predict(X_test_scaled)"
   ]
  },
  {
   "cell_type": "code",
   "execution_count": 22,
   "id": "eec58afc-d177-4be3-a796-daa3f7816307",
   "metadata": {},
   "outputs": [
    {
     "data": {
      "text/plain": [
       "0.6890756302521008"
      ]
     },
     "execution_count": 22,
     "metadata": {},
     "output_type": "execute_result"
    }
   ],
   "source": [
    "accuracy_score(y_test, lg_predictions)"
   ]
  },
  {
   "cell_type": "code",
   "execution_count": 23,
   "id": "d8119d41-6a43-424f-b2dd-099c73836a82",
   "metadata": {},
   "outputs": [
    {
     "data": {
      "text/plain": [
       "array([[630, 112],\n",
       "       [258, 190]], dtype=int64)"
      ]
     },
     "execution_count": 23,
     "metadata": {},
     "output_type": "execute_result"
    }
   ],
   "source": [
    "confusion_matrix(y_test, lg_predictions)"
   ]
  },
  {
   "cell_type": "code",
   "execution_count": 24,
   "id": "e483e34d-eb3d-4c2e-8489-61593432a0ec",
   "metadata": {},
   "outputs": [
    {
     "name": "stdout",
     "output_type": "stream",
     "text": [
      "              precision    recall  f1-score   support\n",
      "\n",
      "           0       0.71      0.85      0.77       742\n",
      "           1       0.63      0.42      0.51       448\n",
      "\n",
      "    accuracy                           0.69      1190\n",
      "   macro avg       0.67      0.64      0.64      1190\n",
      "weighted avg       0.68      0.69      0.67      1190\n",
      "\n"
     ]
    }
   ],
   "source": [
    "print(classification_report(y_test, lg_predictions))"
   ]
  },
  {
   "cell_type": "markdown",
   "id": "1c599e10-f033-4ffb-a36f-4f0a5c093f13",
   "metadata": {},
   "source": [
    "## Random Forest "
   ]
  },
  {
   "cell_type": "code",
   "execution_count": 25,
   "id": "5d5dc725-120a-42ae-ae9c-e5035439358d",
   "metadata": {},
   "outputs": [
    {
     "data": {
      "text/html": [
       "<style>#sk-container-id-2 {color: black;}#sk-container-id-2 pre{padding: 0;}#sk-container-id-2 div.sk-toggleable {background-color: white;}#sk-container-id-2 label.sk-toggleable__label {cursor: pointer;display: block;width: 100%;margin-bottom: 0;padding: 0.3em;box-sizing: border-box;text-align: center;}#sk-container-id-2 label.sk-toggleable__label-arrow:before {content: \"▸\";float: left;margin-right: 0.25em;color: #696969;}#sk-container-id-2 label.sk-toggleable__label-arrow:hover:before {color: black;}#sk-container-id-2 div.sk-estimator:hover label.sk-toggleable__label-arrow:before {color: black;}#sk-container-id-2 div.sk-toggleable__content {max-height: 0;max-width: 0;overflow: hidden;text-align: left;background-color: #f0f8ff;}#sk-container-id-2 div.sk-toggleable__content pre {margin: 0.2em;color: black;border-radius: 0.25em;background-color: #f0f8ff;}#sk-container-id-2 input.sk-toggleable__control:checked~div.sk-toggleable__content {max-height: 200px;max-width: 100%;overflow: auto;}#sk-container-id-2 input.sk-toggleable__control:checked~label.sk-toggleable__label-arrow:before {content: \"▾\";}#sk-container-id-2 div.sk-estimator input.sk-toggleable__control:checked~label.sk-toggleable__label {background-color: #d4ebff;}#sk-container-id-2 div.sk-label input.sk-toggleable__control:checked~label.sk-toggleable__label {background-color: #d4ebff;}#sk-container-id-2 input.sk-hidden--visually {border: 0;clip: rect(1px 1px 1px 1px);clip: rect(1px, 1px, 1px, 1px);height: 1px;margin: -1px;overflow: hidden;padding: 0;position: absolute;width: 1px;}#sk-container-id-2 div.sk-estimator {font-family: monospace;background-color: #f0f8ff;border: 1px dotted black;border-radius: 0.25em;box-sizing: border-box;margin-bottom: 0.5em;}#sk-container-id-2 div.sk-estimator:hover {background-color: #d4ebff;}#sk-container-id-2 div.sk-parallel-item::after {content: \"\";width: 100%;border-bottom: 1px solid gray;flex-grow: 1;}#sk-container-id-2 div.sk-label:hover label.sk-toggleable__label {background-color: #d4ebff;}#sk-container-id-2 div.sk-serial::before {content: \"\";position: absolute;border-left: 1px solid gray;box-sizing: border-box;top: 0;bottom: 0;left: 50%;z-index: 0;}#sk-container-id-2 div.sk-serial {display: flex;flex-direction: column;align-items: center;background-color: white;padding-right: 0.2em;padding-left: 0.2em;position: relative;}#sk-container-id-2 div.sk-item {position: relative;z-index: 1;}#sk-container-id-2 div.sk-parallel {display: flex;align-items: stretch;justify-content: center;background-color: white;position: relative;}#sk-container-id-2 div.sk-item::before, #sk-container-id-2 div.sk-parallel-item::before {content: \"\";position: absolute;border-left: 1px solid gray;box-sizing: border-box;top: 0;bottom: 0;left: 50%;z-index: -1;}#sk-container-id-2 div.sk-parallel-item {display: flex;flex-direction: column;z-index: 1;position: relative;background-color: white;}#sk-container-id-2 div.sk-parallel-item:first-child::after {align-self: flex-end;width: 50%;}#sk-container-id-2 div.sk-parallel-item:last-child::after {align-self: flex-start;width: 50%;}#sk-container-id-2 div.sk-parallel-item:only-child::after {width: 0;}#sk-container-id-2 div.sk-dashed-wrapped {border: 1px dashed gray;margin: 0 0.4em 0.5em 0.4em;box-sizing: border-box;padding-bottom: 0.4em;background-color: white;}#sk-container-id-2 div.sk-label label {font-family: monospace;font-weight: bold;display: inline-block;line-height: 1.2em;}#sk-container-id-2 div.sk-label-container {text-align: center;}#sk-container-id-2 div.sk-container {/* jupyter's `normalize.less` sets `[hidden] { display: none; }` but bootstrap.min.css set `[hidden] { display: none !important; }` so we also need the `!important` here to be able to override the default hidden behavior on the sphinx rendered scikit-learn.org. See: https://github.com/scikit-learn/scikit-learn/issues/21755 */display: inline-block !important;position: relative;}#sk-container-id-2 div.sk-text-repr-fallback {display: none;}</style><div id=\"sk-container-id-2\" class=\"sk-top-container\"><div class=\"sk-text-repr-fallback\"><pre>RandomForestClassifier(random_state=1)</pre><b>In a Jupyter environment, please rerun this cell to show the HTML representation or trust the notebook. <br />On GitHub, the HTML representation is unable to render, please try loading this page with nbviewer.org.</b></div><div class=\"sk-container\" hidden><div class=\"sk-item\"><div class=\"sk-estimator sk-toggleable\"><input class=\"sk-toggleable__control sk-hidden--visually\" id=\"sk-estimator-id-2\" type=\"checkbox\" checked><label for=\"sk-estimator-id-2\" class=\"sk-toggleable__label sk-toggleable__label-arrow\">RandomForestClassifier</label><div class=\"sk-toggleable__content\"><pre>RandomForestClassifier(random_state=1)</pre></div></div></div></div></div>"
      ],
      "text/plain": [
       "RandomForestClassifier(random_state=1)"
      ]
     },
     "execution_count": 25,
     "metadata": {},
     "output_type": "execute_result"
    }
   ],
   "source": [
    "rf_model = RandomForestClassifier(random_state=1)\n",
    "\n",
    "# Fit the model using training data\n",
    "rf_model.fit(X_train_scaled,y_train)"
   ]
  },
  {
   "cell_type": "code",
   "execution_count": 26,
   "id": "e485b222-fb45-4716-9fce-ff59b6124e2b",
   "metadata": {},
   "outputs": [],
   "source": [
    "rf_predictions = rf_model.predict(X_test_scaled)"
   ]
  },
  {
   "cell_type": "code",
   "execution_count": 27,
   "id": "fb4864ea-c1d0-4de5-802a-15dbfc3856d9",
   "metadata": {},
   "outputs": [
    {
     "data": {
      "text/plain": [
       "0.8873949579831932"
      ]
     },
     "execution_count": 27,
     "metadata": {},
     "output_type": "execute_result"
    }
   ],
   "source": [
    "accuracy_score(y_test, rf_predictions)"
   ]
  },
  {
   "cell_type": "code",
   "execution_count": 28,
   "id": "0b5f8daf-918e-447f-b00f-0b2391939c97",
   "metadata": {},
   "outputs": [
    {
     "data": {
      "text/plain": [
       "array([[693,  49],\n",
       "       [ 85, 363]], dtype=int64)"
      ]
     },
     "execution_count": 28,
     "metadata": {},
     "output_type": "execute_result"
    }
   ],
   "source": [
    "confusion_matrix(y_test, rf_predictions)"
   ]
  },
  {
   "cell_type": "code",
   "execution_count": 29,
   "id": "de2d6cc1-390b-48a5-8280-15fca527ac46",
   "metadata": {},
   "outputs": [
    {
     "name": "stdout",
     "output_type": "stream",
     "text": [
      "              precision    recall  f1-score   support\n",
      "\n",
      "           0       0.89      0.93      0.91       742\n",
      "           1       0.88      0.81      0.84       448\n",
      "\n",
      "    accuracy                           0.89      1190\n",
      "   macro avg       0.89      0.87      0.88      1190\n",
      "weighted avg       0.89      0.89      0.89      1190\n",
      "\n"
     ]
    }
   ],
   "source": [
    "print(classification_report(y_test, rf_predictions))"
   ]
  },
  {
   "cell_type": "markdown",
   "id": "0960c988-86be-45ea-b461-d944b543a279",
   "metadata": {},
   "source": [
    "## LSTM"
   ]
  },
  {
   "cell_type": "code",
   "execution_count": 30,
   "id": "cb0288db-b215-45b6-aee9-9b3c76095e49",
   "metadata": {},
   "outputs": [],
   "source": [
    "nn = Sequential()\n",
    "\n",
    "# Creating the first hidden layer\n",
    "nn.add(LSTM(units = 70, return_sequences = True, input_shape = (X_train_scaled.shape[1],1)))\n",
    "nn.add(Dropout(0.2))\n",
    "\n",
    "# Creating the second hidden layer\n",
    "nn.add(LSTM(units = 60, return_sequences = True, activation = 'relu'))\n",
    "nn.add(Dropout(0.1))\n",
    "\n",
    "# Creating the third hidden layer\n",
    "nn.add(LSTM(units = 60, return_sequences = True, activation = 'relu'))\n",
    "nn.add(Dropout(0.1))\n",
    "\n",
    "# Creating the fourth hidden layer\n",
    "nn.add(LSTM(units = 60, activation = 'relu'))\n",
    "nn.add(Dropout(0.1))\n",
    "\n",
    "# Creating the output layer to the model \n",
    "nn.add(Dense(units = 1, activation= 'sigmoid'))\n"
   ]
  },
  {
   "cell_type": "code",
   "execution_count": 31,
   "id": "796e57e0-af45-404c-bca3-2f2b89308314",
   "metadata": {},
   "outputs": [
    {
     "name": "stdout",
     "output_type": "stream",
     "text": [
      "Model: \"sequential\"\n",
      "_________________________________________________________________\n",
      " Layer (type)                Output Shape              Param #   \n",
      "=================================================================\n",
      " lstm (LSTM)                 (None, 11, 70)            20160     \n",
      "                                                                 \n",
      " dropout (Dropout)           (None, 11, 70)            0         \n",
      "                                                                 \n",
      " lstm_1 (LSTM)               (None, 11, 60)            31440     \n",
      "                                                                 \n",
      " dropout_1 (Dropout)         (None, 11, 60)            0         \n",
      "                                                                 \n",
      " lstm_2 (LSTM)               (None, 11, 60)            29040     \n",
      "                                                                 \n",
      " dropout_2 (Dropout)         (None, 11, 60)            0         \n",
      "                                                                 \n",
      " lstm_3 (LSTM)               (None, 60)                29040     \n",
      "                                                                 \n",
      " dropout_3 (Dropout)         (None, 60)                0         \n",
      "                                                                 \n",
      " dense (Dense)               (None, 1)                 61        \n",
      "                                                                 \n",
      "=================================================================\n",
      "Total params: 109,741\n",
      "Trainable params: 109,741\n",
      "Non-trainable params: 0\n",
      "_________________________________________________________________\n"
     ]
    }
   ],
   "source": [
    "# Display the LSTM model summary\n",
    "nn.summary()"
   ]
  },
  {
   "cell_type": "code",
   "execution_count": 32,
   "id": "0a8aeecd-d24d-4f3e-ae79-75f79bc42a8f",
   "metadata": {},
   "outputs": [],
   "source": [
    "# Compile the model\n",
    "nn.compile(optimizer = 'adam', loss = 'mean_squared_error', metrics = ['accuracy'])\n"
   ]
  },
  {
   "cell_type": "code",
   "execution_count": 33,
   "id": "edfcc611-4787-404f-ba9a-6bc3987ff2e8",
   "metadata": {},
   "outputs": [
    {
     "name": "stdout",
     "output_type": "stream",
     "text": [
      "Epoch 1/50\n",
      "112/112 [==============================] - 22s 55ms/step - loss: 0.2378 - accuracy: 0.6094\n",
      "Epoch 2/50\n",
      "112/112 [==============================] - 6s 55ms/step - loss: 0.2246 - accuracy: 0.6243\n",
      "Epoch 3/50\n",
      "112/112 [==============================] - 6s 54ms/step - loss: 0.2076 - accuracy: 0.6918\n",
      "Epoch 4/50\n",
      "112/112 [==============================] - 6s 55ms/step - loss: 0.2016 - accuracy: 0.6985\n",
      "Epoch 5/50\n",
      "112/112 [==============================] - 6s 55ms/step - loss: 0.1979 - accuracy: 0.7083\n",
      "Epoch 6/50\n",
      "112/112 [==============================] - 6s 55ms/step - loss: 0.1941 - accuracy: 0.7142\n",
      "Epoch 7/50\n",
      "112/112 [==============================] - 6s 55ms/step - loss: 0.1908 - accuracy: 0.7249\n",
      "Epoch 8/50\n",
      "112/112 [==============================] - 6s 54ms/step - loss: 0.1839 - accuracy: 0.7386\n",
      "Epoch 9/50\n",
      "112/112 [==============================] - 6s 54ms/step - loss: 0.1797 - accuracy: 0.7450\n",
      "Epoch 10/50\n",
      "112/112 [==============================] - 6s 55ms/step - loss: 0.1777 - accuracy: 0.7445\n",
      "Epoch 11/50\n",
      "112/112 [==============================] - 6s 54ms/step - loss: 0.1763 - accuracy: 0.7478\n",
      "Epoch 12/50\n",
      "112/112 [==============================] - 6s 53ms/step - loss: 0.1732 - accuracy: 0.7537\n",
      "Epoch 13/50\n",
      "112/112 [==============================] - 6s 55ms/step - loss: 0.1728 - accuracy: 0.7548\n",
      "Epoch 14/50\n",
      "112/112 [==============================] - 6s 54ms/step - loss: 0.1709 - accuracy: 0.7666\n",
      "Epoch 15/50\n",
      "112/112 [==============================] - 6s 54ms/step - loss: 0.1692 - accuracy: 0.7621\n",
      "Epoch 16/50\n",
      "112/112 [==============================] - 6s 55ms/step - loss: 0.1692 - accuracy: 0.7574\n",
      "Epoch 17/50\n",
      "112/112 [==============================] - 6s 55ms/step - loss: 0.1646 - accuracy: 0.7694\n",
      "Epoch 18/50\n",
      "112/112 [==============================] - 6s 54ms/step - loss: 0.1629 - accuracy: 0.7742\n",
      "Epoch 19/50\n",
      "112/112 [==============================] - 6s 55ms/step - loss: 0.1629 - accuracy: 0.7649\n",
      "Epoch 20/50\n",
      "112/112 [==============================] - 6s 55ms/step - loss: 0.1627 - accuracy: 0.7697\n",
      "Epoch 21/50\n",
      "112/112 [==============================] - 6s 55ms/step - loss: 0.1613 - accuracy: 0.7728\n",
      "Epoch 22/50\n",
      "112/112 [==============================] - 6s 55ms/step - loss: 0.1609 - accuracy: 0.7728\n",
      "Epoch 23/50\n",
      "112/112 [==============================] - 6s 55ms/step - loss: 0.1554 - accuracy: 0.7781\n",
      "Epoch 24/50\n",
      "112/112 [==============================] - 6s 54ms/step - loss: 0.1534 - accuracy: 0.7837\n",
      "Epoch 25/50\n",
      "112/112 [==============================] - 6s 54ms/step - loss: 0.1548 - accuracy: 0.7750\n",
      "Epoch 26/50\n",
      "112/112 [==============================] - 6s 54ms/step - loss: 0.1501 - accuracy: 0.7840\n",
      "Epoch 27/50\n",
      "112/112 [==============================] - 6s 55ms/step - loss: 0.1453 - accuracy: 0.7966\n",
      "Epoch 28/50\n",
      "112/112 [==============================] - 6s 54ms/step - loss: 0.1417 - accuracy: 0.7985\n",
      "Epoch 29/50\n",
      "112/112 [==============================] - 6s 55ms/step - loss: 0.1418 - accuracy: 0.7938\n",
      "Epoch 30/50\n",
      "112/112 [==============================] - 6s 55ms/step - loss: 0.1378 - accuracy: 0.7966\n",
      "Epoch 31/50\n",
      "112/112 [==============================] - 6s 55ms/step - loss: 0.1368 - accuracy: 0.8013\n",
      "Epoch 32/50\n",
      "112/112 [==============================] - 6s 55ms/step - loss: 0.1330 - accuracy: 0.8083\n",
      "Epoch 33/50\n",
      "112/112 [==============================] - 6s 53ms/step - loss: 0.1347 - accuracy: 0.8041\n",
      "Epoch 34/50\n",
      "112/112 [==============================] - 6s 54ms/step - loss: 0.1322 - accuracy: 0.8058\n",
      "Epoch 35/50\n",
      "112/112 [==============================] - 6s 55ms/step - loss: 0.1325 - accuracy: 0.8061\n",
      "Epoch 36/50\n",
      "112/112 [==============================] - 6s 55ms/step - loss: 0.1342 - accuracy: 0.8086\n",
      "Epoch 37/50\n",
      "112/112 [==============================] - 6s 55ms/step - loss: 0.1283 - accuracy: 0.8179\n",
      "Epoch 38/50\n",
      "112/112 [==============================] - 6s 55ms/step - loss: 0.1293 - accuracy: 0.8106\n",
      "Epoch 39/50\n",
      "112/112 [==============================] - 6s 55ms/step - loss: 0.1263 - accuracy: 0.8179\n",
      "Epoch 40/50\n",
      "112/112 [==============================] - 6s 55ms/step - loss: 0.1272 - accuracy: 0.8109\n",
      "Epoch 41/50\n",
      "112/112 [==============================] - 6s 55ms/step - loss: 0.1261 - accuracy: 0.8106\n",
      "Epoch 42/50\n",
      "112/112 [==============================] - 6s 55ms/step - loss: 0.1247 - accuracy: 0.8145\n",
      "Epoch 43/50\n",
      "112/112 [==============================] - 6s 55ms/step - loss: 0.1236 - accuracy: 0.8179\n",
      "Epoch 44/50\n",
      "112/112 [==============================] - 6s 55ms/step - loss: 0.1224 - accuracy: 0.8215\n",
      "Epoch 45/50\n",
      "112/112 [==============================] - 6s 55ms/step - loss: 0.1212 - accuracy: 0.8229\n",
      "Epoch 46/50\n",
      "112/112 [==============================] - 6s 55ms/step - loss: 0.1192 - accuracy: 0.8263\n",
      "Epoch 47/50\n",
      "112/112 [==============================] - 6s 53ms/step - loss: 0.1190 - accuracy: 0.8254\n",
      "Epoch 48/50\n",
      "112/112 [==============================] - 6s 55ms/step - loss: 0.1185 - accuracy: 0.8288\n",
      "Epoch 49/50\n",
      "112/112 [==============================] - 6s 55ms/step - loss: 0.1196 - accuracy: 0.8238\n",
      "Epoch 50/50\n",
      "112/112 [==============================] - 6s 55ms/step - loss: 0.1180 - accuracy: 0.8285\n"
     ]
    },
    {
     "data": {
      "text/plain": [
       "<keras.callbacks.History at 0x2c099a4a2f0>"
      ]
     },
     "execution_count": 33,
     "metadata": {},
     "output_type": "execute_result"
    }
   ],
   "source": [
    "# Fit the model with the scaled train data and corresponding lables with 50 epochs\n",
    "nn.fit(X_train_scaled, y_train, epochs = 50, batch_size = 32)"
   ]
  },
  {
   "cell_type": "code",
   "execution_count": 34,
   "id": "fc371a2d-b393-4300-9e1c-5073a0d90ee3",
   "metadata": {},
   "outputs": [
    {
     "name": "stdout",
     "output_type": "stream",
     "text": [
      "38/38 [==============================] - 3s 19ms/step\n"
     ]
    },
    {
     "data": {
      "text/plain": [
       "array([0, 0, 0, ..., 0, 0, 1])"
      ]
     },
     "execution_count": 34,
     "metadata": {},
     "output_type": "execute_result"
    }
   ],
   "source": [
    "# Display the prdictions by the model on the test data\n",
    "pred = nn.predict(X_test_scaled)\n",
    "\n",
    "# convert predictions to binary and required data structure\n",
    "lstm_pred= np.where(pred > 0.5, 1, 0).ravel()\n",
    "lstm_pred"
   ]
  },
  {
   "cell_type": "code",
   "execution_count": 35,
   "id": "b98f7c55-fb79-4452-95ae-d2bfd31b75ab",
   "metadata": {
    "tags": []
   },
   "outputs": [
    {
     "name": "stdout",
     "output_type": "stream",
     "text": [
      "              precision    recall  f1-score   support\n",
      "\n",
      "           0       0.82      0.94      0.88       742\n",
      "           1       0.87      0.65      0.74       448\n",
      "\n",
      "    accuracy                           0.83      1190\n",
      "   macro avg       0.84      0.80      0.81      1190\n",
      "weighted avg       0.84      0.83      0.83      1190\n",
      "\n"
     ]
    }
   ],
   "source": [
    "# Obtain the classification report of the predictions\n",
    "print(classification_report(y_test, lstm_pred))\n"
   ]
  },
  {
   "cell_type": "markdown",
   "id": "527f224e-3c66-4a58-8c25-9fb3ed89741b",
   "metadata": {},
   "source": [
    "## Neural Network"
   ]
  },
  {
   "cell_type": "code",
   "execution_count": 38,
   "id": "e35b3f76-1c1c-4bfc-8b9b-29801231a408",
   "metadata": {
    "tags": []
   },
   "outputs": [
    {
     "name": "stdout",
     "output_type": "stream",
     "text": [
      "Epoch 1/50\n",
      "90/90 [==============================] - 1s 5ms/step - loss: 0.5951 - accuracy: 0.6722 - val_loss: 0.5213 - val_accuracy: 0.7227\n",
      "Epoch 2/50\n",
      "90/90 [==============================] - 0s 3ms/step - loss: 0.5064 - accuracy: 0.7285 - val_loss: 0.4579 - val_accuracy: 0.7843\n",
      "Epoch 3/50\n",
      "90/90 [==============================] - 0s 4ms/step - loss: 0.4525 - accuracy: 0.7744 - val_loss: 0.4125 - val_accuracy: 0.7927\n",
      "Epoch 4/50\n",
      "90/90 [==============================] - 0s 4ms/step - loss: 0.4107 - accuracy: 0.7930 - val_loss: 0.3839 - val_accuracy: 0.8165\n",
      "Epoch 5/50\n",
      "90/90 [==============================] - 0s 4ms/step - loss: 0.3994 - accuracy: 0.8053 - val_loss: 0.3813 - val_accuracy: 0.8151\n",
      "Epoch 6/50\n",
      "90/90 [==============================] - 0s 4ms/step - loss: 0.3888 - accuracy: 0.8084 - val_loss: 0.3742 - val_accuracy: 0.8137\n",
      "Epoch 7/50\n",
      "90/90 [==============================] - 0s 4ms/step - loss: 0.3798 - accuracy: 0.8151 - val_loss: 0.3680 - val_accuracy: 0.8193\n",
      "Epoch 8/50\n",
      "90/90 [==============================] - 0s 4ms/step - loss: 0.3706 - accuracy: 0.8217 - val_loss: 0.3665 - val_accuracy: 0.8193\n",
      "Epoch 9/50\n",
      "90/90 [==============================] - 0s 3ms/step - loss: 0.3619 - accuracy: 0.8231 - val_loss: 0.3605 - val_accuracy: 0.8207\n",
      "Epoch 10/50\n",
      "90/90 [==============================] - 0s 3ms/step - loss: 0.3659 - accuracy: 0.8242 - val_loss: 0.3610 - val_accuracy: 0.8207\n",
      "Epoch 11/50\n",
      "90/90 [==============================] - 0s 3ms/step - loss: 0.3572 - accuracy: 0.8301 - val_loss: 0.3604 - val_accuracy: 0.8235\n",
      "Epoch 12/50\n",
      "90/90 [==============================] - 0s 3ms/step - loss: 0.3526 - accuracy: 0.8364 - val_loss: 0.3635 - val_accuracy: 0.8151\n",
      "Epoch 13/50\n",
      "90/90 [==============================] - 0s 3ms/step - loss: 0.3551 - accuracy: 0.8280 - val_loss: 0.3546 - val_accuracy: 0.8193\n",
      "Epoch 14/50\n",
      "90/90 [==============================] - 0s 3ms/step - loss: 0.3450 - accuracy: 0.8364 - val_loss: 0.3573 - val_accuracy: 0.8193\n",
      "Epoch 15/50\n",
      "90/90 [==============================] - 0s 4ms/step - loss: 0.3466 - accuracy: 0.8294 - val_loss: 0.3573 - val_accuracy: 0.8221\n",
      "Epoch 16/50\n",
      "90/90 [==============================] - 0s 3ms/step - loss: 0.3465 - accuracy: 0.8277 - val_loss: 0.3542 - val_accuracy: 0.8095\n",
      "Epoch 17/50\n",
      "90/90 [==============================] - 0s 4ms/step - loss: 0.3333 - accuracy: 0.8420 - val_loss: 0.3484 - val_accuracy: 0.8179\n",
      "Epoch 18/50\n",
      "90/90 [==============================] - 0s 4ms/step - loss: 0.3319 - accuracy: 0.8434 - val_loss: 0.3453 - val_accuracy: 0.8263\n",
      "Epoch 19/50\n",
      "90/90 [==============================] - 0s 4ms/step - loss: 0.3290 - accuracy: 0.8406 - val_loss: 0.3491 - val_accuracy: 0.8235\n",
      "Epoch 20/50\n",
      "90/90 [==============================] - 0s 4ms/step - loss: 0.3281 - accuracy: 0.8403 - val_loss: 0.3460 - val_accuracy: 0.8179\n",
      "Epoch 21/50\n",
      "90/90 [==============================] - 0s 4ms/step - loss: 0.3316 - accuracy: 0.8403 - val_loss: 0.3469 - val_accuracy: 0.8235\n",
      "Epoch 22/50\n",
      "90/90 [==============================] - 0s 3ms/step - loss: 0.3304 - accuracy: 0.8399 - val_loss: 0.3488 - val_accuracy: 0.8207\n",
      "Epoch 23/50\n",
      "90/90 [==============================] - 0s 3ms/step - loss: 0.3285 - accuracy: 0.8448 - val_loss: 0.3507 - val_accuracy: 0.8151\n",
      "Epoch 24/50\n",
      "90/90 [==============================] - 0s 3ms/step - loss: 0.3252 - accuracy: 0.8431 - val_loss: 0.3494 - val_accuracy: 0.8235\n",
      "Epoch 25/50\n",
      "90/90 [==============================] - 0s 3ms/step - loss: 0.3248 - accuracy: 0.8476 - val_loss: 0.3448 - val_accuracy: 0.8221\n",
      "Epoch 26/50\n",
      "90/90 [==============================] - 0s 3ms/step - loss: 0.3180 - accuracy: 0.8483 - val_loss: 0.3461 - val_accuracy: 0.8193\n",
      "Epoch 27/50\n",
      "90/90 [==============================] - 0s 3ms/step - loss: 0.3210 - accuracy: 0.8410 - val_loss: 0.3468 - val_accuracy: 0.8277\n",
      "Epoch 28/50\n",
      "90/90 [==============================] - 0s 4ms/step - loss: 0.3185 - accuracy: 0.8483 - val_loss: 0.3420 - val_accuracy: 0.8249\n",
      "Epoch 29/50\n",
      "90/90 [==============================] - 0s 4ms/step - loss: 0.3203 - accuracy: 0.8441 - val_loss: 0.3504 - val_accuracy: 0.8249\n",
      "Epoch 30/50\n",
      "90/90 [==============================] - 0s 4ms/step - loss: 0.3213 - accuracy: 0.8452 - val_loss: 0.3404 - val_accuracy: 0.8249\n",
      "Epoch 31/50\n",
      "90/90 [==============================] - 0s 4ms/step - loss: 0.3194 - accuracy: 0.8445 - val_loss: 0.3433 - val_accuracy: 0.8263\n",
      "Epoch 32/50\n",
      "90/90 [==============================] - 0s 4ms/step - loss: 0.3169 - accuracy: 0.8515 - val_loss: 0.3387 - val_accuracy: 0.8235\n",
      "Epoch 33/50\n",
      "90/90 [==============================] - 0s 4ms/step - loss: 0.3143 - accuracy: 0.8522 - val_loss: 0.3422 - val_accuracy: 0.8277\n",
      "Epoch 34/50\n",
      "90/90 [==============================] - 0s 4ms/step - loss: 0.3153 - accuracy: 0.8476 - val_loss: 0.3413 - val_accuracy: 0.8221\n",
      "Epoch 35/50\n",
      "90/90 [==============================] - 0s 3ms/step - loss: 0.3142 - accuracy: 0.8417 - val_loss: 0.3414 - val_accuracy: 0.8305\n",
      "Epoch 36/50\n",
      "90/90 [==============================] - 0s 3ms/step - loss: 0.3086 - accuracy: 0.8522 - val_loss: 0.3429 - val_accuracy: 0.8193\n",
      "Epoch 37/50\n",
      "90/90 [==============================] - 0s 3ms/step - loss: 0.3138 - accuracy: 0.8497 - val_loss: 0.3434 - val_accuracy: 0.8249\n",
      "Epoch 38/50\n",
      "90/90 [==============================] - 0s 3ms/step - loss: 0.3106 - accuracy: 0.8532 - val_loss: 0.3454 - val_accuracy: 0.8207\n",
      "Epoch 39/50\n",
      "90/90 [==============================] - 0s 4ms/step - loss: 0.3096 - accuracy: 0.8539 - val_loss: 0.3419 - val_accuracy: 0.8249\n",
      "Epoch 40/50\n",
      "90/90 [==============================] - 0s 3ms/step - loss: 0.3118 - accuracy: 0.8487 - val_loss: 0.3469 - val_accuracy: 0.8151\n",
      "Epoch 41/50\n",
      "90/90 [==============================] - 0s 3ms/step - loss: 0.3123 - accuracy: 0.8504 - val_loss: 0.3466 - val_accuracy: 0.8263\n",
      "Epoch 42/50\n",
      "90/90 [==============================] - 0s 3ms/step - loss: 0.3132 - accuracy: 0.8536 - val_loss: 0.3448 - val_accuracy: 0.8221\n",
      "Epoch 43/50\n",
      "90/90 [==============================] - 0s 4ms/step - loss: 0.3098 - accuracy: 0.8508 - val_loss: 0.3434 - val_accuracy: 0.8193\n",
      "Epoch 44/50\n",
      "90/90 [==============================] - 0s 3ms/step - loss: 0.3052 - accuracy: 0.8564 - val_loss: 0.3471 - val_accuracy: 0.8207\n",
      "Epoch 45/50\n",
      "90/90 [==============================] - 0s 4ms/step - loss: 0.3096 - accuracy: 0.8532 - val_loss: 0.3473 - val_accuracy: 0.8235\n",
      "Epoch 46/50\n",
      "90/90 [==============================] - 0s 4ms/step - loss: 0.3063 - accuracy: 0.8511 - val_loss: 0.3390 - val_accuracy: 0.8291\n",
      "Epoch 47/50\n",
      "90/90 [==============================] - 0s 3ms/step - loss: 0.3081 - accuracy: 0.8557 - val_loss: 0.3447 - val_accuracy: 0.8221\n",
      "Epoch 48/50\n",
      "90/90 [==============================] - 0s 4ms/step - loss: 0.3063 - accuracy: 0.8546 - val_loss: 0.3417 - val_accuracy: 0.8249\n",
      "Epoch 49/50\n",
      "90/90 [==============================] - 0s 4ms/step - loss: 0.3034 - accuracy: 0.8539 - val_loss: 0.3441 - val_accuracy: 0.8249\n",
      "Epoch 50/50\n",
      "90/90 [==============================] - 0s 4ms/step - loss: 0.3061 - accuracy: 0.8536 - val_loss: 0.3448 - val_accuracy: 0.8277\n",
      "38/38 [==============================] - 0s 2ms/step - loss: 0.3159 - accuracy: 0.8429\n",
      "Test Accuracy: 0.8428571224212646\n"
     ]
    }
   ],
   "source": [
    "# Standardize the features\n",
    "scaler = StandardScaler()\n",
    "X_train_scaled = scaler.fit_transform(X_train)\n",
    "X_test_scaled = scaler.transform(X_test)\n",
    "\n",
    "# Build the neural network model\n",
    "model = tf.keras.Sequential([\n",
    "    tf.keras.layers.Input(shape=(X_train_scaled.shape[1],)),\n",
    "    tf.keras.layers.Dense(64, activation='relu'),\n",
    "    tf.keras.layers.Dropout(0.2),\n",
    "    tf.keras.layers.Dense(32, activation='relu'),\n",
    "    tf.keras.layers.Dense(1, activation='sigmoid')  # Use sigmoid for binary classification\n",
    "])\n",
    "\n",
    "# Compile the model\n",
    "model.compile(optimizer='adam', loss='binary_crossentropy', metrics=['accuracy'])\n",
    "\n",
    "# Train the model\n",
    "history = model.fit(X_train_scaled, y_train, epochs=50, batch_size=32, validation_split=0.2)\n",
    "\n",
    "# Evaluate the model\n",
    "test_loss, test_accuracy = model.evaluate(X_test_scaled, y_test)\n",
    "print(\"Test Accuracy:\", test_accuracy)"
   ]
  },
  {
   "cell_type": "code",
   "execution_count": 44,
   "id": "10a40520-6e14-4dd8-af12-f8a1311e6e07",
   "metadata": {
    "tags": []
   },
   "outputs": [
    {
     "name": "stdout",
     "output_type": "stream",
     "text": [
      "38/38 [==============================] - 0s 2ms/step\n"
     ]
    },
    {
     "data": {
      "text/plain": [
       "array([0, 0, 1, ..., 0, 0, 1])"
      ]
     },
     "execution_count": 44,
     "metadata": {},
     "output_type": "execute_result"
    }
   ],
   "source": [
    "# Obtaining the predictions\n",
    "nn_pred = model.predict(X_test_scaled)\n",
    "nn_pred = np.where(nn_pred > 0.5, 1, 0).ravel()\n",
    "nn_pred"
   ]
  },
  {
   "cell_type": "code",
   "execution_count": 45,
   "id": "d1fba0ae-0fce-4be2-8e4c-e5b4af9fa9a8",
   "metadata": {
    "tags": []
   },
   "outputs": [
    {
     "name": "stdout",
     "output_type": "stream",
     "text": [
      "              precision    recall  f1-score   support\n",
      "\n",
      "           0       0.83      0.95      0.88       742\n",
      "           1       0.88      0.67      0.76       448\n",
      "\n",
      "    accuracy                           0.84      1190\n",
      "   macro avg       0.85      0.81      0.82      1190\n",
      "weighted avg       0.85      0.84      0.84      1190\n",
      "\n"
     ]
    }
   ],
   "source": [
    "# Creating the classification report\n",
    "print(classification_report(y_test, nn_pred))"
   ]
  }
 ],
 "metadata": {
  "kernelspec": {
   "display_name": "Python 3 (ipykernel)",
   "language": "python",
   "name": "python3"
  },
  "language_info": {
   "codemirror_mode": {
    "name": "ipython",
    "version": 3
   },
   "file_extension": ".py",
   "mimetype": "text/x-python",
   "name": "python",
   "nbconvert_exporter": "python",
   "pygments_lexer": "ipython3",
   "version": "3.10.11"
  }
 },
 "nbformat": 4,
 "nbformat_minor": 5
}
