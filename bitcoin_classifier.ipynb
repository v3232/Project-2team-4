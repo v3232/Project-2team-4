{
 "cells": [
  {
   "cell_type": "code",
   "execution_count": null,
   "id": "13997cd3-8c94-46e8-b7e0-c4dc3d233a86",
   "metadata": {},
   "outputs": [],
   "source": [
    "import pandas as pd\n",
    "from finta import TA\n",
    "import matplotlib.pyplot as plt"
   ]
  },
  {
   "cell_type": "code",
   "execution_count": null,
   "id": "250a9e80-e19d-4395-8606-866031e8780b",
   "metadata": {},
   "outputs": [],
   "source": [
    "df = pd.read_csv(\"./bitcoin_2010-07-24_2023-08-23.csv\")\n",
    "df['Start']=pd.to_datetime(df['Start'])\n",
    "df.set_index('Start',inplace=True)\n",
    "df.sort_index(ascending=True,inplace=True)\n",
    "df.drop('End',axis=1,inplace=True)\n",
    "df"
   ]
  },
  {
   "cell_type": "code",
   "execution_count": null,
   "id": "30d52bb9-e836-4910-af80-5e931933ff2d",
   "metadata": {},
   "outputs": [],
   "source": [
    "# Calculate ADX\n",
    "df['ADX'] = TA.ADX(df)\n",
    "\n",
    "# Calculate RSI\n",
    "df['RSI'] = TA.RSI(df)\n",
    "\n",
    "# Calculate Bollinger Bands\n",
    "bollinger_bands = TA.BBANDS(df)\n",
    "df['BollingerUpper'] = bollinger_bands['BB_UPPER']\n",
    "df['BollingerMiddle'] = bollinger_bands['BB_MIDDLE']\n",
    "df['BollingerLower'] = bollinger_bands['BB_LOWER']\n",
    "\n",
    "df.dropna(inplace=True)"
   ]
  },
  {
   "cell_type": "code",
   "execution_count": null,
   "id": "542988ec-0cb9-4908-b5fe-efee638f37a8",
   "metadata": {},
   "outputs": [],
   "source": [
    "def label_market(df, criteria):\n",
    "    df['MarketLabel'] = 0\n",
    "    indices = df.index.tolist()\n",
    "    \n",
    "    for i in range(len(indices)):\n",
    "        current_index = indices[i]\n",
    "        trendy_count = 0\n",
    "        \n",
    "        if df.loc[current_index, 'ADX'] > 25:\n",
    "            trendy_count += 1\n",
    "        \n",
    "        if df.loc[current_index, 'RSI'] < 30 or df.loc[current_index, 'RSI'] > 70:\n",
    "            trendy_count += 1\n",
    "\n",
    "        if i > 0:\n",
    "            previous_index = indices[i-1]\n",
    "            current_width = df.loc[current_index, 'BollingerUpper'] - df.loc[current_index, 'BollingerLower']\n",
    "            previous_width = df.loc[previous_index, 'BollingerUpper'] - df.loc[previous_index, 'BollingerLower']\n",
    "            \n",
    "            if current_width > previous_width:\n",
    "                trendy_count += 1\n",
    "\n",
    "        if trendy_count >= criteria:\n",
    "            df.loc[current_index, 'MarketLabel'] = 1  # Trendy\n",
    "            \n",
    "    return df"
   ]
  },
  {
   "cell_type": "code",
   "execution_count": null,
   "id": "545c76ba-fd8e-4f74-a41d-27bfa3ff18fb",
   "metadata": {},
   "outputs": [],
   "source": [
    "def plot_colored_market_trends(df):\n",
    "    fig, ax = plt.subplots()\n",
    "    prev_price = df['Close'].iloc[0]\n",
    "    prev_date = df.index[0]\n",
    "    prev_label = df['MarketLabel'].iloc[0]\n",
    "\n",
    "    for date, row in df.iterrows():\n",
    "        current_price = row['Close']\n",
    "        current_label = row['MarketLabel']\n",
    "        \n",
    "        color = 'g' if current_label == 1 else 'b'\n",
    "        \n",
    "        ax.plot([prev_date, date], [prev_price, current_price], color=color)\n",
    "        \n",
    "        prev_price = current_price\n",
    "        prev_date = date\n",
    "        prev_label = current_label\n",
    "\n",
    "    ax.set_title('BTC Prices with Market Labels')\n",
    "    ax.set_xlabel('Date')\n",
    "    ax.set_ylabel('Close Price')\n",
    "\n",
    "    plt.show()"
   ]
  },
  {
   "cell_type": "code",
   "execution_count": null,
   "id": "c748d680-c714-4030-86e2-7364f4953a73",
   "metadata": {},
   "outputs": [],
   "source": [
    "df=label_market(df,2)\n",
    "plot_colored_market_trends(df)"
   ]
  }
 ],
 "metadata": {
  "kernelspec": {
   "display_name": "Python 3 (ipykernel)",
   "language": "python",
   "name": "python3"
  },
  "language_info": {
   "codemirror_mode": {
    "name": "ipython",
    "version": 3
   },
   "file_extension": ".py",
   "mimetype": "text/x-python",
   "name": "python",
   "nbconvert_exporter": "python",
   "pygments_lexer": "ipython3",
   "version": "3.9.13"
  }
 },
 "nbformat": 4,
 "nbformat_minor": 5
}
