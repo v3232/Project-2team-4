{
 "cells": [
  {
   "cell_type": "code",
   "execution_count": null,
   "id": "13997cd3-8c94-46e8-b7e0-c4dc3d233a86",
   "metadata": {},
   "outputs": [],
   "source": [
    "import pandas as pd\n",
    "from finta import TA"
   ]
  },
  {
   "cell_type": "code",
   "execution_count": null,
   "id": "250a9e80-e19d-4395-8606-866031e8780b",
   "metadata": {},
   "outputs": [],
   "source": [
    "df =pd.read_csv(\"./bitcoin_2010-07-24_2023-08-23.csv\")"
   ]
  },
  {
   "cell_type": "code",
   "execution_count": null,
   "id": "30d52bb9-e836-4910-af80-5e931933ff2d",
   "metadata": {},
   "outputs": [],
   "source": [
    "# Calculate ADX\n",
    "df['ADX'] = TA.ADX(df)\n",
    "\n",
    "# Calculate RSI\n",
    "df['RSI'] = TA.RSI(df)\n",
    "\n",
    "# Calculate Bollinger Bands\n",
    "bollinger_bands = TA.BBANDS(df)\n",
    "df['BollingerUpper'] = bollinger_bands['BB_UPPER']\n",
    "df['BollingerMiddle'] = bollinger_bands['BB_MIDDLE']\n",
    "df['BollingerLower'] = bollinger_bands['BB_LOWER']\n",
    "\n",
    "df"
   ]
  },
  {
   "cell_type": "code",
   "execution_count": null,
   "id": "542988ec-0cb9-4908-b5fe-efee638f37a8",
   "metadata": {},
   "outputs": [],
   "source": [
    "def label_market(df,criteria):\n",
    "    df['MarketLabel'] = 0\n",
    "    \n",
    "    for i in range(len(df)):\n",
    "        \n",
    "        trendy_count = 0\n",
    "        \n",
    "        if df.loc[i, 'ADX'] > 25:\n",
    "            trendy_count += 1\n",
    "        \n",
    "        if df.loc[i, 'RSI'] < 30 or df.loc[i, 'RSI'] > 70:\n",
    "            trendy_count += 1\n",
    "\n",
    "        # We'll consider the market as trending if the bands are expanding\n",
    "        if i > 0:\n",
    "            current_width = df.loc[i, 'BollingerUpper'] - df.loc[i, 'BollingerLower']\n",
    "            previous_width = df.loc[i-1, 'BollingerUpper'] - df.loc[i-1, 'BollingerLower']\n",
    "            \n",
    "            if current_width > previous_width:\n",
    "                trendy_count += 1\n",
    "\n",
    "        if trendy_count >= criteria:\n",
    "            df.loc[i, 'MarketLabel'] = 1  # Trendy\n",
    "            \n",
    "    return df"
   ]
  },
  {
   "cell_type": "code",
   "execution_count": null,
   "id": "d5d331f7-64cd-41da-929b-a092722237a9",
   "metadata": {},
   "outputs": [],
   "source": [
    "df.sample(10)"
   ]
  }
 ],
 "metadata": {
  "kernelspec": {
   "display_name": "Python 3 (ipykernel)",
   "language": "python",
   "name": "python3"
  },
  "language_info": {
   "codemirror_mode": {
    "name": "ipython",
    "version": 3
   },
   "file_extension": ".py",
   "mimetype": "text/x-python",
   "name": "python",
   "nbconvert_exporter": "python",
   "pygments_lexer": "ipython3",
   "version": "3.9.17"
  }
 },
 "nbformat": 4,
 "nbformat_minor": 5
}
